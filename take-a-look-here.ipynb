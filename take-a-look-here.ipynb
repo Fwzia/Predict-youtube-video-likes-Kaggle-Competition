{
 "cells": [
  {
   "cell_type": "markdown",
   "id": "c3b9b9ff",
   "metadata": {
    "papermill": {
     "duration": 0.038263,
     "end_time": "2022-02-08T17:35:31.151591",
     "exception": false,
     "start_time": "2022-02-08T17:35:31.113328",
     "status": "completed"
    },
    "tags": []
   },
   "source": [
    "# Import Libraries"
   ]
  },
  {
   "cell_type": "code",
   "execution_count": 1,
   "id": "4a3f592b",
   "metadata": {
    "execution": {
     "iopub.execute_input": "2022-02-08T17:35:31.230396Z",
     "iopub.status.busy": "2022-02-08T17:35:31.228578Z",
     "iopub.status.idle": "2022-02-08T17:35:33.790839Z",
     "shell.execute_reply": "2022-02-08T17:35:33.789524Z",
     "shell.execute_reply.started": "2022-02-08T17:31:30.804499Z"
    },
    "papermill": {
     "duration": 2.60079,
     "end_time": "2022-02-08T17:35:33.791120",
     "exception": false,
     "start_time": "2022-02-08T17:35:31.190330",
     "status": "completed"
    },
    "tags": []
   },
   "outputs": [
    {
     "data": {
      "text/html": [
       "<style type='text/css'>\n",
       ".datatable table.frame { margin-bottom: 0; }\n",
       ".datatable table.frame thead { border-bottom: none; }\n",
       ".datatable table.frame tr.coltypes td {  color: #FFFFFF;  line-height: 6px;  padding: 0 0.5em;}\n",
       ".datatable .bool    { background: #DDDD99; }\n",
       ".datatable .object  { background: #565656; }\n",
       ".datatable .int     { background: #5D9E5D; }\n",
       ".datatable .float   { background: #4040CC; }\n",
       ".datatable .str     { background: #CC4040; }\n",
       ".datatable .time    { background: #40CC40; }\n",
       ".datatable .row_index {  background: var(--jp-border-color3);  border-right: 1px solid var(--jp-border-color0);  color: var(--jp-ui-font-color3);  font-size: 9px;}\n",
       ".datatable .frame tbody td { text-align: left; }\n",
       ".datatable .frame tr.coltypes .row_index {  background: var(--jp-border-color0);}\n",
       ".datatable th:nth-child(2) { padding-left: 12px; }\n",
       ".datatable .hellipsis {  color: var(--jp-cell-editor-border-color);}\n",
       ".datatable .vellipsis {  background: var(--jp-layout-color0);  color: var(--jp-cell-editor-border-color);}\n",
       ".datatable .na {  color: var(--jp-cell-editor-border-color);  font-size: 80%;}\n",
       ".datatable .sp {  opacity: 0.25;}\n",
       ".datatable .footer { font-size: 9px; }\n",
       ".datatable .frame_dimensions {  background: var(--jp-border-color3);  border-top: 1px solid var(--jp-border-color0);  color: var(--jp-ui-font-color3);  display: inline-block;  opacity: 0.6;  padding: 1px 10px 1px 5px;}\n",
       "</style>\n"
      ],
      "text/plain": [
       "<IPython.core.display.HTML object>"
      ]
     },
     "metadata": {},
     "output_type": "display_data"
    }
   ],
   "source": [
    "import numpy as np\n",
    "import pandas as pd\n",
    "import matplotlib.pyplot as plt\n",
    "import seaborn as sn\n",
    "from wordcloud import WordCloud\n",
    "from sklearn.model_selection import KFold\n",
    "from sklearn.metrics import mean_absolute_error\n",
    "import lightgbm as lgb\n",
    "\n",
    "import warnings\n",
    "warnings.filterwarnings('ignore')"
   ]
  },
  {
   "cell_type": "markdown",
   "id": "a5209934",
   "metadata": {
    "papermill": {
     "duration": 0.031389,
     "end_time": "2022-02-08T17:35:33.855149",
     "exception": false,
     "start_time": "2022-02-08T17:35:33.823760",
     "status": "completed"
    },
    "tags": []
   },
   "source": [
    "## looking at the big picture it seems a multiple univariate regression _ supervised learning "
   ]
  },
  {
   "cell_type": "markdown",
   "id": "96d88094",
   "metadata": {
    "papermill": {
     "duration": 0.031348,
     "end_time": "2022-02-08T17:35:33.918117",
     "exception": false,
     "start_time": "2022-02-08T17:35:33.886769",
     "status": "completed"
    },
    "tags": []
   },
   "source": [
    "# Get the data"
   ]
  },
  {
   "cell_type": "code",
   "execution_count": 2,
   "id": "8c39f6af",
   "metadata": {
    "execution": {
     "iopub.execute_input": "2022-02-08T17:35:33.988832Z",
     "iopub.status.busy": "2022-02-08T17:35:33.987833Z",
     "iopub.status.idle": "2022-02-08T17:35:36.457554Z",
     "shell.execute_reply": "2022-02-08T17:35:36.458360Z",
     "shell.execute_reply.started": "2022-02-08T17:31:31.953089Z"
    },
    "papermill": {
     "duration": 2.509245,
     "end_time": "2022-02-08T17:35:36.458654",
     "exception": false,
     "start_time": "2022-02-08T17:35:33.949409",
     "status": "completed"
    },
    "tags": []
   },
   "outputs": [],
   "source": [
    "train_set = pd.read_parquet('../input/kaggle-pog-series-s01e01/train.parquet')\n",
    "test_set = pd.read_parquet('../input/kaggle-pog-series-s01e01/test.parquet')\n",
    "submission = pd.read_csv('../input/kaggle-pog-series-s01e01/sample_submission.csv')"
   ]
  },
  {
   "cell_type": "markdown",
   "id": "412ce0a8",
   "metadata": {
    "papermill": {
     "duration": 0.032048,
     "end_time": "2022-02-08T17:35:36.526468",
     "exception": false,
     "start_time": "2022-02-08T17:35:36.494420",
     "status": "completed"
    },
    "tags": []
   },
   "source": [
    "# Discover & visualize the Data to gain insights"
   ]
  },
  {
   "cell_type": "code",
   "execution_count": 3,
   "id": "b70b33da",
   "metadata": {
    "execution": {
     "iopub.execute_input": "2022-02-08T17:35:36.593125Z",
     "iopub.status.busy": "2022-02-08T17:35:36.592362Z",
     "iopub.status.idle": "2022-02-08T17:35:36.599294Z",
     "shell.execute_reply": "2022-02-08T17:35:36.598733Z",
     "shell.execute_reply.started": "2022-02-08T17:31:32.829345Z"
    },
    "papermill": {
     "duration": 0.041693,
     "end_time": "2022-02-08T17:35:36.599457",
     "exception": false,
     "start_time": "2022-02-08T17:35:36.557764",
     "status": "completed"
    },
    "tags": []
   },
   "outputs": [
    {
     "data": {
      "text/plain": [
       "((92275, 20), (5800, 16))"
      ]
     },
     "execution_count": 3,
     "metadata": {},
     "output_type": "execute_result"
    }
   ],
   "source": [
    "train_set.shape, test_set.shape"
   ]
  },
  {
   "cell_type": "code",
   "execution_count": 4,
   "id": "46cd74e5",
   "metadata": {
    "execution": {
     "iopub.execute_input": "2022-02-08T17:35:36.670721Z",
     "iopub.status.busy": "2022-02-08T17:35:36.669900Z",
     "iopub.status.idle": "2022-02-08T17:35:36.698686Z",
     "shell.execute_reply": "2022-02-08T17:35:36.699337Z",
     "shell.execute_reply.started": "2022-02-08T17:31:32.838931Z"
    },
    "papermill": {
     "duration": 0.067486,
     "end_time": "2022-02-08T17:35:36.699535",
     "exception": false,
     "start_time": "2022-02-08T17:35:36.632049",
     "status": "completed"
    },
    "tags": []
   },
   "outputs": [
    {
     "data": {
      "text/html": [
       "<div>\n",
       "<style scoped>\n",
       "    .dataframe tbody tr th:only-of-type {\n",
       "        vertical-align: middle;\n",
       "    }\n",
       "\n",
       "    .dataframe tbody tr th {\n",
       "        vertical-align: top;\n",
       "    }\n",
       "\n",
       "    .dataframe thead th {\n",
       "        text-align: right;\n",
       "    }\n",
       "</style>\n",
       "<table border=\"1\" class=\"dataframe\">\n",
       "  <thead>\n",
       "    <tr style=\"text-align: right;\">\n",
       "      <th></th>\n",
       "      <th>video_id</th>\n",
       "      <th>title</th>\n",
       "      <th>publishedAt</th>\n",
       "      <th>channelId</th>\n",
       "      <th>channelTitle</th>\n",
       "      <th>categoryId</th>\n",
       "      <th>trending_date</th>\n",
       "      <th>tags</th>\n",
       "      <th>view_count</th>\n",
       "      <th>likes</th>\n",
       "      <th>dislikes</th>\n",
       "      <th>comment_count</th>\n",
       "      <th>thumbnail_link</th>\n",
       "      <th>comments_disabled</th>\n",
       "      <th>ratings_disabled</th>\n",
       "      <th>description</th>\n",
       "      <th>id</th>\n",
       "      <th>duration_seconds</th>\n",
       "      <th>has_thumbnail</th>\n",
       "      <th>target</th>\n",
       "    </tr>\n",
       "  </thead>\n",
       "  <tbody>\n",
       "    <tr>\n",
       "      <th>0</th>\n",
       "      <td>3C66w5Z0ixs</td>\n",
       "      <td>I ASKED HER TO BE MY GIRLFRIEND...</td>\n",
       "      <td>2020-08-11 19:20:14+00:00</td>\n",
       "      <td>UCvtRTOMP2TqYqu51xNrqAzg</td>\n",
       "      <td>Brawadis</td>\n",
       "      <td>22</td>\n",
       "      <td>2020-08-12</td>\n",
       "      <td>brawadis|prank|basketball|skits|ghost|funny vi...</td>\n",
       "      <td>1514614</td>\n",
       "      <td>156908</td>\n",
       "      <td>5855</td>\n",
       "      <td>35313</td>\n",
       "      <td>https://i.ytimg.com/vi/3C66w5Z0ixs/default.jpg</td>\n",
       "      <td>False</td>\n",
       "      <td>False</td>\n",
       "      <td>SUBSCRIBE to BRAWADIS ▶ http://bit.ly/Subscrib...</td>\n",
       "      <td>3C66w5Z0ixs_2020-08-12</td>\n",
       "      <td>NaN</td>\n",
       "      <td>True</td>\n",
       "      <td>0.103596</td>\n",
       "    </tr>\n",
       "    <tr>\n",
       "      <th>1</th>\n",
       "      <td>M9Pmf9AB4Mo</td>\n",
       "      <td>Apex Legends | Stories from the Outlands – “Th...</td>\n",
       "      <td>2020-08-11 17:00:10+00:00</td>\n",
       "      <td>UC0ZV6M2THA81QT9hrVWJG3A</td>\n",
       "      <td>Apex Legends</td>\n",
       "      <td>20</td>\n",
       "      <td>2020-08-12</td>\n",
       "      <td>Apex Legends|Apex Legends characters|new Apex ...</td>\n",
       "      <td>2381688</td>\n",
       "      <td>146739</td>\n",
       "      <td>2794</td>\n",
       "      <td>16549</td>\n",
       "      <td>https://i.ytimg.com/vi/M9Pmf9AB4Mo/default.jpg</td>\n",
       "      <td>False</td>\n",
       "      <td>False</td>\n",
       "      <td>While running her own modding shop, Ramya Pare...</td>\n",
       "      <td>M9Pmf9AB4Mo_2020-08-12</td>\n",
       "      <td>NaN</td>\n",
       "      <td>True</td>\n",
       "      <td>0.061611</td>\n",
       "    </tr>\n",
       "    <tr>\n",
       "      <th>2</th>\n",
       "      <td>J78aPJ3VyNs</td>\n",
       "      <td>I left youtube for a month and THIS is what ha...</td>\n",
       "      <td>2020-08-11 16:34:06+00:00</td>\n",
       "      <td>UCYzPXprvl5Y-Sf0g4vX-m6g</td>\n",
       "      <td>jacksepticeye</td>\n",
       "      <td>24</td>\n",
       "      <td>2020-08-12</td>\n",
       "      <td>jacksepticeye|funny|funny meme|memes|jacksepti...</td>\n",
       "      <td>2038853</td>\n",
       "      <td>353787</td>\n",
       "      <td>2628</td>\n",
       "      <td>40221</td>\n",
       "      <td>https://i.ytimg.com/vi/J78aPJ3VyNs/default.jpg</td>\n",
       "      <td>False</td>\n",
       "      <td>False</td>\n",
       "      <td>I left youtube for a month and this is what ha...</td>\n",
       "      <td>J78aPJ3VyNs_2020-08-12</td>\n",
       "      <td>NaN</td>\n",
       "      <td>True</td>\n",
       "      <td>0.173523</td>\n",
       "    </tr>\n",
       "    <tr>\n",
       "      <th>3</th>\n",
       "      <td>kXLn3HkpjaA</td>\n",
       "      <td>XXL 2020 Freshman Class Revealed - Official An...</td>\n",
       "      <td>2020-08-11 16:38:55+00:00</td>\n",
       "      <td>UCbg_UMjlHJg_19SZckaKajg</td>\n",
       "      <td>XXL</td>\n",
       "      <td>10</td>\n",
       "      <td>2020-08-12</td>\n",
       "      <td>xxl freshman|xxl freshmen|2020 xxl freshman|20...</td>\n",
       "      <td>496771</td>\n",
       "      <td>23251</td>\n",
       "      <td>1856</td>\n",
       "      <td>7647</td>\n",
       "      <td>https://i.ytimg.com/vi/kXLn3HkpjaA/default.jpg</td>\n",
       "      <td>False</td>\n",
       "      <td>False</td>\n",
       "      <td>Subscribe to XXL → http://bit.ly/subscribe-xxl...</td>\n",
       "      <td>kXLn3HkpjaA_2020-08-12</td>\n",
       "      <td>NaN</td>\n",
       "      <td>True</td>\n",
       "      <td>0.046804</td>\n",
       "    </tr>\n",
       "    <tr>\n",
       "      <th>4</th>\n",
       "      <td>VIUo6yapDbc</td>\n",
       "      <td>Ultimate DIY Home Movie Theater for The LaBran...</td>\n",
       "      <td>2020-08-11 15:10:05+00:00</td>\n",
       "      <td>UCDVPcEbVLQgLZX0Rt6jo34A</td>\n",
       "      <td>Mr. Kate</td>\n",
       "      <td>26</td>\n",
       "      <td>2020-08-12</td>\n",
       "      <td>The LaBrant Family|DIY|Interior Design|Makeove...</td>\n",
       "      <td>1123889</td>\n",
       "      <td>45802</td>\n",
       "      <td>964</td>\n",
       "      <td>2196</td>\n",
       "      <td>https://i.ytimg.com/vi/VIUo6yapDbc/default.jpg</td>\n",
       "      <td>False</td>\n",
       "      <td>False</td>\n",
       "      <td>Transforming The LaBrant Family's empty white ...</td>\n",
       "      <td>VIUo6yapDbc_2020-08-12</td>\n",
       "      <td>NaN</td>\n",
       "      <td>True</td>\n",
       "      <td>0.040753</td>\n",
       "    </tr>\n",
       "  </tbody>\n",
       "</table>\n",
       "</div>"
      ],
      "text/plain": [
       "      video_id                                              title  \\\n",
       "0  3C66w5Z0ixs                 I ASKED HER TO BE MY GIRLFRIEND...   \n",
       "1  M9Pmf9AB4Mo  Apex Legends | Stories from the Outlands – “Th...   \n",
       "2  J78aPJ3VyNs  I left youtube for a month and THIS is what ha...   \n",
       "3  kXLn3HkpjaA  XXL 2020 Freshman Class Revealed - Official An...   \n",
       "4  VIUo6yapDbc  Ultimate DIY Home Movie Theater for The LaBran...   \n",
       "\n",
       "                publishedAt                 channelId   channelTitle  \\\n",
       "0 2020-08-11 19:20:14+00:00  UCvtRTOMP2TqYqu51xNrqAzg       Brawadis   \n",
       "1 2020-08-11 17:00:10+00:00  UC0ZV6M2THA81QT9hrVWJG3A   Apex Legends   \n",
       "2 2020-08-11 16:34:06+00:00  UCYzPXprvl5Y-Sf0g4vX-m6g  jacksepticeye   \n",
       "3 2020-08-11 16:38:55+00:00  UCbg_UMjlHJg_19SZckaKajg            XXL   \n",
       "4 2020-08-11 15:10:05+00:00  UCDVPcEbVLQgLZX0Rt6jo34A       Mr. Kate   \n",
       "\n",
       "   categoryId trending_date  \\\n",
       "0          22    2020-08-12   \n",
       "1          20    2020-08-12   \n",
       "2          24    2020-08-12   \n",
       "3          10    2020-08-12   \n",
       "4          26    2020-08-12   \n",
       "\n",
       "                                                tags  view_count   likes  \\\n",
       "0  brawadis|prank|basketball|skits|ghost|funny vi...     1514614  156908   \n",
       "1  Apex Legends|Apex Legends characters|new Apex ...     2381688  146739   \n",
       "2  jacksepticeye|funny|funny meme|memes|jacksepti...     2038853  353787   \n",
       "3  xxl freshman|xxl freshmen|2020 xxl freshman|20...      496771   23251   \n",
       "4  The LaBrant Family|DIY|Interior Design|Makeove...     1123889   45802   \n",
       "\n",
       "   dislikes  comment_count                                  thumbnail_link  \\\n",
       "0      5855          35313  https://i.ytimg.com/vi/3C66w5Z0ixs/default.jpg   \n",
       "1      2794          16549  https://i.ytimg.com/vi/M9Pmf9AB4Mo/default.jpg   \n",
       "2      2628          40221  https://i.ytimg.com/vi/J78aPJ3VyNs/default.jpg   \n",
       "3      1856           7647  https://i.ytimg.com/vi/kXLn3HkpjaA/default.jpg   \n",
       "4       964           2196  https://i.ytimg.com/vi/VIUo6yapDbc/default.jpg   \n",
       "\n",
       "   comments_disabled  ratings_disabled  \\\n",
       "0              False             False   \n",
       "1              False             False   \n",
       "2              False             False   \n",
       "3              False             False   \n",
       "4              False             False   \n",
       "\n",
       "                                         description                      id  \\\n",
       "0  SUBSCRIBE to BRAWADIS ▶ http://bit.ly/Subscrib...  3C66w5Z0ixs_2020-08-12   \n",
       "1  While running her own modding shop, Ramya Pare...  M9Pmf9AB4Mo_2020-08-12   \n",
       "2  I left youtube for a month and this is what ha...  J78aPJ3VyNs_2020-08-12   \n",
       "3  Subscribe to XXL → http://bit.ly/subscribe-xxl...  kXLn3HkpjaA_2020-08-12   \n",
       "4  Transforming The LaBrant Family's empty white ...  VIUo6yapDbc_2020-08-12   \n",
       "\n",
       "   duration_seconds  has_thumbnail    target  \n",
       "0               NaN           True  0.103596  \n",
       "1               NaN           True  0.061611  \n",
       "2               NaN           True  0.173523  \n",
       "3               NaN           True  0.046804  \n",
       "4               NaN           True  0.040753  "
      ]
     },
     "execution_count": 4,
     "metadata": {},
     "output_type": "execute_result"
    }
   ],
   "source": [
    "train_set.head()"
   ]
  },
  {
   "cell_type": "code",
   "execution_count": 5,
   "id": "8bc55258",
   "metadata": {
    "execution": {
     "iopub.execute_input": "2022-02-08T17:35:36.864464Z",
     "iopub.status.busy": "2022-02-08T17:35:36.768318Z",
     "iopub.status.idle": "2022-02-08T17:35:36.888465Z",
     "shell.execute_reply": "2022-02-08T17:35:36.887752Z",
     "shell.execute_reply.started": "2022-02-08T17:31:32.871079Z"
    },
    "papermill": {
     "duration": 0.15662,
     "end_time": "2022-02-08T17:35:36.888623",
     "exception": false,
     "start_time": "2022-02-08T17:35:36.732003",
     "status": "completed"
    },
    "tags": []
   },
   "outputs": [
    {
     "name": "stdout",
     "output_type": "stream",
     "text": [
      "<class 'pandas.core.frame.DataFrame'>\n",
      "RangeIndex: 92275 entries, 0 to 92274\n",
      "Data columns (total 20 columns):\n",
      " #   Column             Non-Null Count  Dtype              \n",
      "---  ------             --------------  -----              \n",
      " 0   video_id           92275 non-null  object             \n",
      " 1   title              92275 non-null  object             \n",
      " 2   publishedAt        92275 non-null  datetime64[ns, UTC]\n",
      " 3   channelId          92275 non-null  object             \n",
      " 4   channelTitle       92275 non-null  object             \n",
      " 5   categoryId         92275 non-null  int64              \n",
      " 6   trending_date      92275 non-null  object             \n",
      " 7   tags               92275 non-null  object             \n",
      " 8   view_count         92275 non-null  int64              \n",
      " 9   likes              92275 non-null  int64              \n",
      " 10  dislikes           92275 non-null  int64              \n",
      " 11  comment_count      92275 non-null  int64              \n",
      " 12  thumbnail_link     92275 non-null  object             \n",
      " 13  comments_disabled  92275 non-null  bool               \n",
      " 14  ratings_disabled   92275 non-null  bool               \n",
      " 15  description        90799 non-null  object             \n",
      " 16  id                 92275 non-null  object             \n",
      " 17  duration_seconds   90099 non-null  float64            \n",
      " 18  has_thumbnail      92275 non-null  bool               \n",
      " 19  target             92275 non-null  float64            \n",
      "dtypes: bool(3), datetime64[ns, UTC](1), float64(2), int64(5), object(9)\n",
      "memory usage: 12.2+ MB\n"
     ]
    }
   ],
   "source": [
    "train_set.info()"
   ]
  },
  {
   "cell_type": "markdown",
   "id": "22be9e7f",
   "metadata": {
    "papermill": {
     "duration": 0.033905,
     "end_time": "2022-02-08T17:35:36.956284",
     "exception": false,
     "start_time": "2022-02-08T17:35:36.922379",
     "status": "completed"
    },
    "tags": []
   },
   "source": [
    "### Test data does not have categoryID 15 and 29."
   ]
  },
  {
   "cell_type": "code",
   "execution_count": 6,
   "id": "ec0742a5",
   "metadata": {
    "execution": {
     "iopub.execute_input": "2022-02-08T17:35:37.038271Z",
     "iopub.status.busy": "2022-02-08T17:35:37.027578Z",
     "iopub.status.idle": "2022-02-08T17:35:37.097378Z",
     "shell.execute_reply": "2022-02-08T17:35:37.097929Z",
     "shell.execute_reply.started": "2022-02-08T17:31:32.985545Z"
    },
    "papermill": {
     "duration": 0.107827,
     "end_time": "2022-02-08T17:35:37.098132",
     "exception": false,
     "start_time": "2022-02-08T17:35:36.990305",
     "status": "completed"
    },
    "tags": []
   },
   "outputs": [
    {
     "data": {
      "text/html": [
       "<div>\n",
       "<style scoped>\n",
       "    .dataframe tbody tr th:only-of-type {\n",
       "        vertical-align: middle;\n",
       "    }\n",
       "\n",
       "    .dataframe tbody tr th {\n",
       "        vertical-align: top;\n",
       "    }\n",
       "\n",
       "    .dataframe thead th {\n",
       "        text-align: right;\n",
       "    }\n",
       "</style>\n",
       "<table border=\"1\" class=\"dataframe\">\n",
       "  <thead>\n",
       "    <tr style=\"text-align: right;\">\n",
       "      <th></th>\n",
       "      <th>categoryId</th>\n",
       "      <th>view_count</th>\n",
       "      <th>likes</th>\n",
       "      <th>dislikes</th>\n",
       "      <th>comment_count</th>\n",
       "      <th>duration_seconds</th>\n",
       "      <th>target</th>\n",
       "    </tr>\n",
       "  </thead>\n",
       "  <tbody>\n",
       "    <tr>\n",
       "      <th>count</th>\n",
       "      <td>92275.000000</td>\n",
       "      <td>9.227500e+04</td>\n",
       "      <td>9.227500e+04</td>\n",
       "      <td>92275.000000</td>\n",
       "      <td>9.227500e+04</td>\n",
       "      <td>90099.000000</td>\n",
       "      <td>92275.000000</td>\n",
       "    </tr>\n",
       "    <tr>\n",
       "      <th>mean</th>\n",
       "      <td>18.733416</td>\n",
       "      <td>2.779091e+06</td>\n",
       "      <td>1.521223e+05</td>\n",
       "      <td>3110.977307</td>\n",
       "      <td>1.373574e+04</td>\n",
       "      <td>760.614602</td>\n",
       "      <td>0.057060</td>\n",
       "    </tr>\n",
       "    <tr>\n",
       "      <th>std</th>\n",
       "      <td>6.866404</td>\n",
       "      <td>7.364113e+06</td>\n",
       "      <td>4.374777e+05</td>\n",
       "      <td>13342.743386</td>\n",
       "      <td>9.672682e+04</td>\n",
       "      <td>5816.818926</td>\n",
       "      <td>0.040373</td>\n",
       "    </tr>\n",
       "    <tr>\n",
       "      <th>min</th>\n",
       "      <td>1.000000</td>\n",
       "      <td>3.851000e+04</td>\n",
       "      <td>0.000000e+00</td>\n",
       "      <td>0.000000</td>\n",
       "      <td>0.000000e+00</td>\n",
       "      <td>3.000000</td>\n",
       "      <td>0.000000</td>\n",
       "    </tr>\n",
       "    <tr>\n",
       "      <th>25%</th>\n",
       "      <td>17.000000</td>\n",
       "      <td>5.312440e+05</td>\n",
       "      <td>2.136300e+04</td>\n",
       "      <td>368.000000</td>\n",
       "      <td>1.692000e+03</td>\n",
       "      <td>184.000000</td>\n",
       "      <td>0.028066</td>\n",
       "    </tr>\n",
       "    <tr>\n",
       "      <th>50%</th>\n",
       "      <td>20.000000</td>\n",
       "      <td>1.100045e+06</td>\n",
       "      <td>5.169200e+04</td>\n",
       "      <td>852.000000</td>\n",
       "      <td>3.856000e+03</td>\n",
       "      <td>446.000000</td>\n",
       "      <td>0.050784</td>\n",
       "    </tr>\n",
       "    <tr>\n",
       "      <th>75%</th>\n",
       "      <td>24.000000</td>\n",
       "      <td>2.482274e+06</td>\n",
       "      <td>1.312825e+05</td>\n",
       "      <td>2239.000000</td>\n",
       "      <td>9.322000e+03</td>\n",
       "      <td>854.000000</td>\n",
       "      <td>0.075265</td>\n",
       "    </tr>\n",
       "    <tr>\n",
       "      <th>max</th>\n",
       "      <td>29.000000</td>\n",
       "      <td>2.644074e+08</td>\n",
       "      <td>1.602153e+07</td>\n",
       "      <td>879354.000000</td>\n",
       "      <td>6.738537e+06</td>\n",
       "      <td>485620.000000</td>\n",
       "      <td>0.433503</td>\n",
       "    </tr>\n",
       "  </tbody>\n",
       "</table>\n",
       "</div>"
      ],
      "text/plain": [
       "         categoryId    view_count         likes       dislikes  comment_count  \\\n",
       "count  92275.000000  9.227500e+04  9.227500e+04   92275.000000   9.227500e+04   \n",
       "mean      18.733416  2.779091e+06  1.521223e+05    3110.977307   1.373574e+04   \n",
       "std        6.866404  7.364113e+06  4.374777e+05   13342.743386   9.672682e+04   \n",
       "min        1.000000  3.851000e+04  0.000000e+00       0.000000   0.000000e+00   \n",
       "25%       17.000000  5.312440e+05  2.136300e+04     368.000000   1.692000e+03   \n",
       "50%       20.000000  1.100045e+06  5.169200e+04     852.000000   3.856000e+03   \n",
       "75%       24.000000  2.482274e+06  1.312825e+05    2239.000000   9.322000e+03   \n",
       "max       29.000000  2.644074e+08  1.602153e+07  879354.000000   6.738537e+06   \n",
       "\n",
       "       duration_seconds        target  \n",
       "count      90099.000000  92275.000000  \n",
       "mean         760.614602      0.057060  \n",
       "std         5816.818926      0.040373  \n",
       "min            3.000000      0.000000  \n",
       "25%          184.000000      0.028066  \n",
       "50%          446.000000      0.050784  \n",
       "75%          854.000000      0.075265  \n",
       "max       485620.000000      0.433503  "
      ]
     },
     "execution_count": 6,
     "metadata": {},
     "output_type": "execute_result"
    }
   ],
   "source": [
    "train_set.describe()"
   ]
  },
  {
   "cell_type": "markdown",
   "id": "f40e57c5",
   "metadata": {
    "papermill": {
     "duration": 0.033903,
     "end_time": "2022-02-08T17:35:37.166351",
     "exception": false,
     "start_time": "2022-02-08T17:35:37.132448",
     "status": "completed"
    },
    "tags": []
   },
   "source": [
    "# Fill Missing Values"
   ]
  },
  {
   "cell_type": "code",
   "execution_count": 7,
   "id": "19601c78",
   "metadata": {
    "execution": {
     "iopub.execute_input": "2022-02-08T17:35:37.257966Z",
     "iopub.status.busy": "2022-02-08T17:35:37.236792Z",
     "iopub.status.idle": "2022-02-08T17:35:37.261373Z",
     "shell.execute_reply": "2022-02-08T17:35:37.260752Z",
     "shell.execute_reply.started": "2022-02-08T17:31:33.059916Z"
    },
    "papermill": {
     "duration": 0.061229,
     "end_time": "2022-02-08T17:35:37.261544",
     "exception": false,
     "start_time": "2022-02-08T17:35:37.200315",
     "status": "completed"
    },
    "tags": []
   },
   "outputs": [],
   "source": [
    "#I notice that \"description, duration_seconds\" had missing values ..let's take care of this\n",
    "train_set[\"description\"].fillna('None', inplace=True)\n",
    "test_set[\"description\"].fillna('None', inplace=True)"
   ]
  },
  {
   "cell_type": "code",
   "execution_count": 8,
   "id": "9bebe8e3",
   "metadata": {
    "execution": {
     "iopub.execute_input": "2022-02-08T17:35:37.344534Z",
     "iopub.status.busy": "2022-02-08T17:35:37.343329Z",
     "iopub.status.idle": "2022-02-08T17:35:37.349018Z",
     "shell.execute_reply": "2022-02-08T17:35:37.349669Z",
     "shell.execute_reply.started": "2022-02-08T17:31:33.086932Z"
    },
    "papermill": {
     "duration": 0.053655,
     "end_time": "2022-02-08T17:35:37.349881",
     "exception": false,
     "start_time": "2022-02-08T17:35:37.296226",
     "status": "completed"
    },
    "tags": []
   },
   "outputs": [],
   "source": [
    "#mean المتوسط\n",
    "#mod القيمة الاكثر تكرارا\n",
    "train_set['duration_seconds']=train_set['duration_seconds'].fillna(train_set['duration_seconds'].mean())\n",
    "test_set['duration_seconds']=test_set['duration_seconds'].fillna(test_set['duration_seconds'].mean())"
   ]
  },
  {
   "cell_type": "code",
   "execution_count": 9,
   "id": "6bcf89f9",
   "metadata": {
    "execution": {
     "iopub.execute_input": "2022-02-08T17:35:37.521357Z",
     "iopub.status.busy": "2022-02-08T17:35:37.424618Z",
     "iopub.status.idle": "2022-02-08T17:35:37.532781Z",
     "shell.execute_reply": "2022-02-08T17:35:37.533414Z",
     "shell.execute_reply.started": "2022-02-08T17:31:33.101092Z"
    },
    "papermill": {
     "duration": 0.147262,
     "end_time": "2022-02-08T17:35:37.533624",
     "exception": false,
     "start_time": "2022-02-08T17:35:37.386362",
     "status": "completed"
    },
    "tags": []
   },
   "outputs": [
    {
     "data": {
      "text/plain": [
       "video_id             0\n",
       "title                0\n",
       "publishedAt          0\n",
       "channelId            0\n",
       "channelTitle         0\n",
       "categoryId           0\n",
       "trending_date        0\n",
       "tags                 0\n",
       "view_count           0\n",
       "likes                0\n",
       "dislikes             0\n",
       "comment_count        0\n",
       "thumbnail_link       0\n",
       "comments_disabled    0\n",
       "ratings_disabled     0\n",
       "description          0\n",
       "id                   0\n",
       "duration_seconds     0\n",
       "has_thumbnail        0\n",
       "target               0\n",
       "dtype: int64"
      ]
     },
     "execution_count": 9,
     "metadata": {},
     "output_type": "execute_result"
    }
   ],
   "source": [
    "train_set.isnull().sum()"
   ]
  },
  {
   "cell_type": "code",
   "execution_count": 10,
   "id": "f882ee2b",
   "metadata": {
    "execution": {
     "iopub.execute_input": "2022-02-08T17:35:37.615215Z",
     "iopub.status.busy": "2022-02-08T17:35:37.614139Z",
     "iopub.status.idle": "2022-02-08T17:35:37.624247Z",
     "shell.execute_reply": "2022-02-08T17:35:37.623524Z",
     "shell.execute_reply.started": "2022-02-08T17:31:33.214328Z"
    },
    "papermill": {
     "duration": 0.055925,
     "end_time": "2022-02-08T17:35:37.624419",
     "exception": false,
     "start_time": "2022-02-08T17:35:37.568494",
     "status": "completed"
    },
    "tags": []
   },
   "outputs": [
    {
     "data": {
      "text/plain": [
       "video_id             0\n",
       "title                0\n",
       "publishedAt          0\n",
       "channelId            0\n",
       "channelTitle         0\n",
       "categoryId           0\n",
       "trending_date        0\n",
       "tags                 0\n",
       "thumbnail_link       0\n",
       "comments_disabled    0\n",
       "ratings_disabled     0\n",
       "description          0\n",
       "id                   0\n",
       "duration_seconds     0\n",
       "has_thumbnail        0\n",
       "isTest               0\n",
       "dtype: int64"
      ]
     },
     "execution_count": 10,
     "metadata": {},
     "output_type": "execute_result"
    }
   ],
   "source": [
    "test_set.isnull().sum()"
   ]
  },
  {
   "cell_type": "code",
   "execution_count": 11,
   "id": "dfdc9f5a",
   "metadata": {
    "execution": {
     "iopub.execute_input": "2022-02-08T17:35:37.800755Z",
     "iopub.status.busy": "2022-02-08T17:35:37.799831Z",
     "iopub.status.idle": "2022-02-08T17:35:40.512589Z",
     "shell.execute_reply": "2022-02-08T17:35:40.511850Z",
     "shell.execute_reply.started": "2022-02-08T17:31:33.233057Z"
    },
    "papermill": {
     "duration": 2.849262,
     "end_time": "2022-02-08T17:35:40.512756",
     "exception": false,
     "start_time": "2022-02-08T17:35:37.663494",
     "status": "completed"
    },
    "tags": []
   },
   "outputs": [
    {
     "data": {
      "text/plain": [
       "<AxesSubplot:>"
      ]
     },
     "execution_count": 11,
     "metadata": {},
     "output_type": "execute_result"
    },
    {
     "data": {
      "image/png": "[encoded data removed]",
      "text/plain": [
       "<Figure size 432x288 with 1 Axes>"
      ]
     },
     "metadata": {
      "needs_background": "light"
     },
     "output_type": "display_data"
    }
   ],
   "source": [
    "#HeatMap of Missing Values\n",
    "sn.heatmap(train_set.isnull(),yticklabels=False,cbar=False)"
   ]
  },
  {
   "cell_type": "markdown",
   "id": "92f7904c",
   "metadata": {
    "papermill": {
     "duration": 0.037977,
     "end_time": "2022-02-08T17:35:40.590009",
     "exception": false,
     "start_time": "2022-02-08T17:35:40.552032",
     "status": "completed"
    },
    "tags": []
   },
   "source": [
    "# Correlations\n"
   ]
  },
  {
   "cell_type": "code",
   "execution_count": 12,
   "id": "528b67d4",
   "metadata": {
    "execution": {
     "iopub.execute_input": "2022-02-08T17:35:40.672942Z",
     "iopub.status.busy": "2022-02-08T17:35:40.672282Z",
     "iopub.status.idle": "2022-02-08T17:35:40.712376Z",
     "shell.execute_reply": "2022-02-08T17:35:40.712853Z",
     "shell.execute_reply.started": "2022-02-08T17:31:35.881344Z"
    },
    "papermill": {
     "duration": 0.086045,
     "end_time": "2022-02-08T17:35:40.713096",
     "exception": false,
     "start_time": "2022-02-08T17:35:40.627051",
     "status": "completed"
    },
    "tags": []
   },
   "outputs": [
    {
     "data": {
      "text/plain": [
       "target               1.000000\n",
       "likes                0.203877\n",
       "comment_count        0.081980\n",
       "has_thumbnail        0.019487\n",
       "dislikes             0.004226\n",
       "view_count          -0.021704\n",
       "duration_seconds    -0.035155\n",
       "comments_disabled   -0.089399\n",
       "categoryId          -0.096996\n",
       "ratings_disabled    -0.098274\n",
       "Name: target, dtype: float64"
      ]
     },
     "execution_count": 12,
     "metadata": {},
     "output_type": "execute_result"
    }
   ],
   "source": [
    "#look for correlations\n",
    "corr_matrix = train_set.corr()\n",
    "corr_matrix[\"target\"].sort_values(ascending=False)"
   ]
  },
  {
   "cell_type": "code",
   "execution_count": 13,
   "id": "a5c43517",
   "metadata": {
    "execution": {
     "iopub.execute_input": "2022-02-08T17:35:40.803671Z",
     "iopub.status.busy": "2022-02-08T17:35:40.802911Z",
     "iopub.status.idle": "2022-02-08T17:35:41.980843Z",
     "shell.execute_reply": "2022-02-08T17:35:41.981394Z",
     "shell.execute_reply.started": "2022-02-08T17:31:35.925765Z"
    },
    "papermill": {
     "duration": 1.228238,
     "end_time": "2022-02-08T17:35:41.981753",
     "exception": false,
     "start_time": "2022-02-08T17:35:40.753515",
     "status": "completed"
    },
    "tags": []
   },
   "outputs": [
    {
     "data": {
      "text/plain": [
       "<AxesSubplot:>"
      ]
     },
     "execution_count": 13,
     "metadata": {},
     "output_type": "execute_result"
    },
    {
     "data": {
      "image/png": "[encoded data removed]",
      "text/plain": [
       "<Figure size 1440x1296 with 2 Axes>"
      ]
     },
     "metadata": {
      "needs_background": "light"
     },
     "output_type": "display_data"
    }
   ],
   "source": [
    "plt.figure(figsize = (20,18))\n",
    "sn.heatmap(train_set.corr(), annot = True)"
   ]
  },
  {
   "cell_type": "markdown",
   "id": "92bdab38",
   "metadata": {
    "papermill": {
     "duration": 0.047733,
     "end_time": "2022-02-08T17:35:42.074724",
     "exception": false,
     "start_time": "2022-02-08T17:35:42.026991",
     "status": "completed"
    },
    "tags": []
   },
   "source": [
    "# WordCloud *Generate_from_frequencies* \"ChannelTitle\""
   ]
  },
  {
   "cell_type": "code",
   "execution_count": 14,
   "id": "bd630543",
   "metadata": {
    "execution": {
     "iopub.execute_input": "2022-02-08T17:35:42.167509Z",
     "iopub.status.busy": "2022-02-08T17:35:42.166015Z",
     "iopub.status.idle": "2022-02-08T17:35:42.168747Z",
     "shell.execute_reply": "2022-02-08T17:35:42.169418Z",
     "shell.execute_reply.started": "2022-02-08T17:31:37.075239Z"
    },
    "papermill": {
     "duration": 0.049928,
     "end_time": "2022-02-08T17:35:42.169635",
     "exception": false,
     "start_time": "2022-02-08T17:35:42.119707",
     "status": "completed"
    },
    "tags": []
   },
   "outputs": [],
   "source": [
    "from collections import Counter"
   ]
  },
  {
   "cell_type": "code",
   "execution_count": 15,
   "id": "abcb2252",
   "metadata": {
    "execution": {
     "iopub.execute_input": "2022-02-08T17:35:42.270258Z",
     "iopub.status.busy": "2022-02-08T17:35:42.268947Z",
     "iopub.status.idle": "2022-02-08T17:35:42.287001Z",
     "shell.execute_reply": "2022-02-08T17:35:42.287516Z",
     "shell.execute_reply.started": "2022-02-08T17:31:37.082645Z"
    },
    "papermill": {
     "duration": 0.075492,
     "end_time": "2022-02-08T17:35:42.287724",
     "exception": false,
     "start_time": "2022-02-08T17:35:42.212232",
     "status": "completed"
    },
    "tags": []
   },
   "outputs": [],
   "source": [
    "tokens = []\n",
    "for i in train_set['channelTitle']:\n",
    "    tokens.append(i)"
   ]
  },
  {
   "cell_type": "code",
   "execution_count": 16,
   "id": "83eb8e3c",
   "metadata": {
    "execution": {
     "iopub.execute_input": "2022-02-08T17:35:42.371402Z",
     "iopub.status.busy": "2022-02-08T17:35:42.370399Z",
     "iopub.status.idle": "2022-02-08T17:35:42.380491Z",
     "shell.execute_reply": "2022-02-08T17:35:42.381110Z",
     "shell.execute_reply.started": "2022-02-08T17:31:37.129313Z"
    },
    "papermill": {
     "duration": 0.05448,
     "end_time": "2022-02-08T17:35:42.381443",
     "exception": false,
     "start_time": "2022-02-08T17:35:42.326963",
     "status": "completed"
    },
    "tags": []
   },
   "outputs": [],
   "source": [
    "#count the freq of each word\n",
    "word_counts = Counter(tokens)"
   ]
  },
  {
   "cell_type": "code",
   "execution_count": 17,
   "id": "edd08618",
   "metadata": {
    "execution": {
     "iopub.execute_input": "2022-02-08T17:35:42.468818Z",
     "iopub.status.busy": "2022-02-08T17:35:42.468117Z",
     "iopub.status.idle": "2022-02-08T17:35:42.667127Z",
     "shell.execute_reply": "2022-02-08T17:35:42.666531Z",
     "shell.execute_reply.started": "2022-02-08T17:31:37.142486Z"
    },
    "papermill": {
     "duration": 0.246199,
     "end_time": "2022-02-08T17:35:42.667330",
     "exception": false,
     "start_time": "2022-02-08T17:35:42.421131",
     "status": "completed"
    },
    "tags": []
   },
   "outputs": [
    {
     "data": {
      "text/plain": [
       "<wordcloud.wordcloud.WordCloud at 0x7f58b53bd310>"
      ]
     },
     "execution_count": 17,
     "metadata": {},
     "output_type": "execute_result"
    }
   ],
   "source": [
    "cloud = WordCloud(max_words = 200, colormap=\"Reds\")\n",
    "cloud.generate_from_frequencies(word_counts)"
   ]
  },
  {
   "cell_type": "code",
   "execution_count": 18,
   "id": "cd4cf8dc",
   "metadata": {
    "execution": {
     "iopub.execute_input": "2022-02-08T17:35:42.766448Z",
     "iopub.status.busy": "2022-02-08T17:35:42.765427Z",
     "iopub.status.idle": "2022-02-08T17:35:42.958961Z",
     "shell.execute_reply": "2022-02-08T17:35:42.959505Z",
     "shell.execute_reply.started": "2022-02-08T17:31:37.376906Z"
    },
    "papermill": {
     "duration": 0.250574,
     "end_time": "2022-02-08T17:35:42.959696",
     "exception": false,
     "start_time": "2022-02-08T17:35:42.709122",
     "status": "completed"
    },
    "tags": []
   },
   "outputs": [
    {
     "data": {
      "image/png": "[encoded data removed]",
      "text/plain": [
       "<Figure size 576x576 with 1 Axes>"
      ]
     },
     "metadata": {
      "needs_background": "light"
     },
     "output_type": "display_data"
    }
   ],
   "source": [
    "plt.figure(figsize=(8, 8), facecolor = None)\n",
    "plt.imshow(cloud, interpolation='bilinear')\n",
    "plt.axis(\"off\")\n",
    "plt.show()"
   ]
  },
  {
   "cell_type": "code",
   "execution_count": 19,
   "id": "a0715072",
   "metadata": {
    "execution": {
     "iopub.execute_input": "2022-02-08T17:35:43.052567Z",
     "iopub.status.busy": "2022-02-08T17:35:43.051493Z",
     "iopub.status.idle": "2022-02-08T17:35:43.053957Z",
     "shell.execute_reply": "2022-02-08T17:35:43.054603Z",
     "shell.execute_reply.started": "2022-02-08T17:31:37.611024Z"
    },
    "papermill": {
     "duration": 0.05197,
     "end_time": "2022-02-08T17:35:43.054791",
     "exception": false,
     "start_time": "2022-02-08T17:35:43.002821",
     "status": "completed"
    },
    "tags": []
   },
   "outputs": [],
   "source": [
    "#print(word_counts)"
   ]
  },
  {
   "cell_type": "markdown",
   "id": "55e00aa8",
   "metadata": {
    "papermill": {
     "duration": 0.042452,
     "end_time": "2022-02-08T17:35:43.140027",
     "exception": false,
     "start_time": "2022-02-08T17:35:43.097575",
     "status": "completed"
    },
    "tags": []
   },
   "source": [
    "# KFold"
   ]
  },
  {
   "cell_type": "code",
   "execution_count": 20,
   "id": "596972b9",
   "metadata": {
    "execution": {
     "iopub.execute_input": "2022-02-08T17:35:43.229175Z",
     "iopub.status.busy": "2022-02-08T17:35:43.228462Z",
     "iopub.status.idle": "2022-02-08T17:35:43.248031Z",
     "shell.execute_reply": "2022-02-08T17:35:43.247134Z",
     "shell.execute_reply.started": "2022-02-08T17:31:37.616139Z"
    },
    "papermill": {
     "duration": 0.065701,
     "end_time": "2022-02-08T17:35:43.248230",
     "exception": false,
     "start_time": "2022-02-08T17:35:43.182529",
     "status": "completed"
    },
    "tags": []
   },
   "outputs": [
    {
     "name": "stdout",
     "output_type": "stream",
     "text": [
      "16969\n"
     ]
    },
    {
     "data": {
      "text/plain": [
       "array(['3C66w5Z0ixs', 'M9Pmf9AB4Mo', 'J78aPJ3VyNs', ..., 'B5DWe7EWh1Y',\n",
       "       'LgKVsV8593U', 'BtPqxeTT61Y'], dtype=object)"
      ]
     },
     "execution_count": 20,
     "metadata": {},
     "output_type": "execute_result"
    }
   ],
   "source": [
    "cfg = {\n",
    "    'TARGET' : 'target',\n",
    "    'N_FOLDS' : 10,\n",
    "    'RANDOM_STATE': 42,\n",
    "    'N_ESTIMATORS' : 50_000,\n",
    "    'LEARNING_RATE': 0.1\n",
    "}\n",
    "\n",
    "train_vids = train_set['video_id'].unique()\n",
    "print(len(train_vids))\n",
    "train_vids"
   ]
  },
  {
   "cell_type": "code",
   "execution_count": 21,
   "id": "9a5a322a",
   "metadata": {
    "execution": {
     "iopub.execute_input": "2022-02-08T17:35:43.343730Z",
     "iopub.status.busy": "2022-02-08T17:35:43.340257Z",
     "iopub.status.idle": "2022-02-08T17:35:43.462082Z",
     "shell.execute_reply": "2022-02-08T17:35:43.461501Z",
     "shell.execute_reply.started": "2022-02-08T17:31:37.643776Z"
    },
    "papermill": {
     "duration": 0.169351,
     "end_time": "2022-02-08T17:35:43.462238",
     "exception": false,
     "start_time": "2022-02-08T17:35:43.292887",
     "status": "completed"
    },
    "tags": []
   },
   "outputs": [
    {
     "data": {
      "text/html": [
       "<div>\n",
       "<style scoped>\n",
       "    .dataframe tbody tr th:only-of-type {\n",
       "        vertical-align: middle;\n",
       "    }\n",
       "\n",
       "    .dataframe tbody tr th {\n",
       "        vertical-align: top;\n",
       "    }\n",
       "\n",
       "    .dataframe thead th {\n",
       "        text-align: right;\n",
       "    }\n",
       "</style>\n",
       "<table border=\"1\" class=\"dataframe\">\n",
       "  <thead>\n",
       "    <tr style=\"text-align: right;\">\n",
       "      <th></th>\n",
       "      <th>video_id</th>\n",
       "      <th>title</th>\n",
       "      <th>publishedAt</th>\n",
       "      <th>channelId</th>\n",
       "      <th>channelTitle</th>\n",
       "      <th>categoryId</th>\n",
       "      <th>trending_date</th>\n",
       "      <th>tags</th>\n",
       "      <th>view_count</th>\n",
       "      <th>likes</th>\n",
       "      <th>...</th>\n",
       "      <th>comment_count</th>\n",
       "      <th>thumbnail_link</th>\n",
       "      <th>comments_disabled</th>\n",
       "      <th>ratings_disabled</th>\n",
       "      <th>description</th>\n",
       "      <th>id</th>\n",
       "      <th>duration_seconds</th>\n",
       "      <th>has_thumbnail</th>\n",
       "      <th>target</th>\n",
       "      <th>fold</th>\n",
       "    </tr>\n",
       "  </thead>\n",
       "  <tbody>\n",
       "    <tr>\n",
       "      <th>0</th>\n",
       "      <td>3C66w5Z0ixs</td>\n",
       "      <td>I ASKED HER TO BE MY GIRLFRIEND...</td>\n",
       "      <td>2020-08-11 19:20:14+00:00</td>\n",
       "      <td>UCvtRTOMP2TqYqu51xNrqAzg</td>\n",
       "      <td>Brawadis</td>\n",
       "      <td>22</td>\n",
       "      <td>2020-08-12</td>\n",
       "      <td>brawadis|prank|basketball|skits|ghost|funny vi...</td>\n",
       "      <td>1514614</td>\n",
       "      <td>156908</td>\n",
       "      <td>...</td>\n",
       "      <td>35313</td>\n",
       "      <td>https://i.ytimg.com/vi/3C66w5Z0ixs/default.jpg</td>\n",
       "      <td>False</td>\n",
       "      <td>False</td>\n",
       "      <td>SUBSCRIBE to BRAWADIS ▶ http://bit.ly/Subscrib...</td>\n",
       "      <td>3C66w5Z0ixs_2020-08-12</td>\n",
       "      <td>760.614602</td>\n",
       "      <td>True</td>\n",
       "      <td>0.103596</td>\n",
       "      <td>2</td>\n",
       "    </tr>\n",
       "    <tr>\n",
       "      <th>1</th>\n",
       "      <td>M9Pmf9AB4Mo</td>\n",
       "      <td>Apex Legends | Stories from the Outlands – “Th...</td>\n",
       "      <td>2020-08-11 17:00:10+00:00</td>\n",
       "      <td>UC0ZV6M2THA81QT9hrVWJG3A</td>\n",
       "      <td>Apex Legends</td>\n",
       "      <td>20</td>\n",
       "      <td>2020-08-12</td>\n",
       "      <td>Apex Legends|Apex Legends characters|new Apex ...</td>\n",
       "      <td>2381688</td>\n",
       "      <td>146739</td>\n",
       "      <td>...</td>\n",
       "      <td>16549</td>\n",
       "      <td>https://i.ytimg.com/vi/M9Pmf9AB4Mo/default.jpg</td>\n",
       "      <td>False</td>\n",
       "      <td>False</td>\n",
       "      <td>While running her own modding shop, Ramya Pare...</td>\n",
       "      <td>M9Pmf9AB4Mo_2020-08-12</td>\n",
       "      <td>760.614602</td>\n",
       "      <td>True</td>\n",
       "      <td>0.061611</td>\n",
       "      <td>9</td>\n",
       "    </tr>\n",
       "    <tr>\n",
       "      <th>2</th>\n",
       "      <td>J78aPJ3VyNs</td>\n",
       "      <td>I left youtube for a month and THIS is what ha...</td>\n",
       "      <td>2020-08-11 16:34:06+00:00</td>\n",
       "      <td>UCYzPXprvl5Y-Sf0g4vX-m6g</td>\n",
       "      <td>jacksepticeye</td>\n",
       "      <td>24</td>\n",
       "      <td>2020-08-12</td>\n",
       "      <td>jacksepticeye|funny|funny meme|memes|jacksepti...</td>\n",
       "      <td>2038853</td>\n",
       "      <td>353787</td>\n",
       "      <td>...</td>\n",
       "      <td>40221</td>\n",
       "      <td>https://i.ytimg.com/vi/J78aPJ3VyNs/default.jpg</td>\n",
       "      <td>False</td>\n",
       "      <td>False</td>\n",
       "      <td>I left youtube for a month and this is what ha...</td>\n",
       "      <td>J78aPJ3VyNs_2020-08-12</td>\n",
       "      <td>760.614602</td>\n",
       "      <td>True</td>\n",
       "      <td>0.173523</td>\n",
       "      <td>7</td>\n",
       "    </tr>\n",
       "    <tr>\n",
       "      <th>3</th>\n",
       "      <td>kXLn3HkpjaA</td>\n",
       "      <td>XXL 2020 Freshman Class Revealed - Official An...</td>\n",
       "      <td>2020-08-11 16:38:55+00:00</td>\n",
       "      <td>UCbg_UMjlHJg_19SZckaKajg</td>\n",
       "      <td>XXL</td>\n",
       "      <td>10</td>\n",
       "      <td>2020-08-12</td>\n",
       "      <td>xxl freshman|xxl freshmen|2020 xxl freshman|20...</td>\n",
       "      <td>496771</td>\n",
       "      <td>23251</td>\n",
       "      <td>...</td>\n",
       "      <td>7647</td>\n",
       "      <td>https://i.ytimg.com/vi/kXLn3HkpjaA/default.jpg</td>\n",
       "      <td>False</td>\n",
       "      <td>False</td>\n",
       "      <td>Subscribe to XXL → http://bit.ly/subscribe-xxl...</td>\n",
       "      <td>kXLn3HkpjaA_2020-08-12</td>\n",
       "      <td>760.614602</td>\n",
       "      <td>True</td>\n",
       "      <td>0.046804</td>\n",
       "      <td>1</td>\n",
       "    </tr>\n",
       "    <tr>\n",
       "      <th>4</th>\n",
       "      <td>VIUo6yapDbc</td>\n",
       "      <td>Ultimate DIY Home Movie Theater for The LaBran...</td>\n",
       "      <td>2020-08-11 15:10:05+00:00</td>\n",
       "      <td>UCDVPcEbVLQgLZX0Rt6jo34A</td>\n",
       "      <td>Mr. Kate</td>\n",
       "      <td>26</td>\n",
       "      <td>2020-08-12</td>\n",
       "      <td>The LaBrant Family|DIY|Interior Design|Makeove...</td>\n",
       "      <td>1123889</td>\n",
       "      <td>45802</td>\n",
       "      <td>...</td>\n",
       "      <td>2196</td>\n",
       "      <td>https://i.ytimg.com/vi/VIUo6yapDbc/default.jpg</td>\n",
       "      <td>False</td>\n",
       "      <td>False</td>\n",
       "      <td>Transforming The LaBrant Family's empty white ...</td>\n",
       "      <td>VIUo6yapDbc_2020-08-12</td>\n",
       "      <td>760.614602</td>\n",
       "      <td>True</td>\n",
       "      <td>0.040753</td>\n",
       "      <td>6</td>\n",
       "    </tr>\n",
       "  </tbody>\n",
       "</table>\n",
       "<p>5 rows × 21 columns</p>\n",
       "</div>"
      ],
      "text/plain": [
       "      video_id                                              title  \\\n",
       "0  3C66w5Z0ixs                 I ASKED HER TO BE MY GIRLFRIEND...   \n",
       "1  M9Pmf9AB4Mo  Apex Legends | Stories from the Outlands – “Th...   \n",
       "2  J78aPJ3VyNs  I left youtube for a month and THIS is what ha...   \n",
       "3  kXLn3HkpjaA  XXL 2020 Freshman Class Revealed - Official An...   \n",
       "4  VIUo6yapDbc  Ultimate DIY Home Movie Theater for The LaBran...   \n",
       "\n",
       "                publishedAt                 channelId   channelTitle  \\\n",
       "0 2020-08-11 19:20:14+00:00  UCvtRTOMP2TqYqu51xNrqAzg       Brawadis   \n",
       "1 2020-08-11 17:00:10+00:00  UC0ZV6M2THA81QT9hrVWJG3A   Apex Legends   \n",
       "2 2020-08-11 16:34:06+00:00  UCYzPXprvl5Y-Sf0g4vX-m6g  jacksepticeye   \n",
       "3 2020-08-11 16:38:55+00:00  UCbg_UMjlHJg_19SZckaKajg            XXL   \n",
       "4 2020-08-11 15:10:05+00:00  UCDVPcEbVLQgLZX0Rt6jo34A       Mr. Kate   \n",
       "\n",
       "   categoryId trending_date  \\\n",
       "0          22    2020-08-12   \n",
       "1          20    2020-08-12   \n",
       "2          24    2020-08-12   \n",
       "3          10    2020-08-12   \n",
       "4          26    2020-08-12   \n",
       "\n",
       "                                                tags  view_count   likes  ...  \\\n",
       "0  brawadis|prank|basketball|skits|ghost|funny vi...     1514614  156908  ...   \n",
       "1  Apex Legends|Apex Legends characters|new Apex ...     2381688  146739  ...   \n",
       "2  jacksepticeye|funny|funny meme|memes|jacksepti...     2038853  353787  ...   \n",
       "3  xxl freshman|xxl freshmen|2020 xxl freshman|20...      496771   23251  ...   \n",
       "4  The LaBrant Family|DIY|Interior Design|Makeove...     1123889   45802  ...   \n",
       "\n",
       "   comment_count                                  thumbnail_link  \\\n",
       "0          35313  https://i.ytimg.com/vi/3C66w5Z0ixs/default.jpg   \n",
       "1          16549  https://i.ytimg.com/vi/M9Pmf9AB4Mo/default.jpg   \n",
       "2          40221  https://i.ytimg.com/vi/J78aPJ3VyNs/default.jpg   \n",
       "3           7647  https://i.ytimg.com/vi/kXLn3HkpjaA/default.jpg   \n",
       "4           2196  https://i.ytimg.com/vi/VIUo6yapDbc/default.jpg   \n",
       "\n",
       "  comments_disabled  ratings_disabled  \\\n",
       "0             False             False   \n",
       "1             False             False   \n",
       "2             False             False   \n",
       "3             False             False   \n",
       "4             False             False   \n",
       "\n",
       "                                         description                      id  \\\n",
       "0  SUBSCRIBE to BRAWADIS ▶ http://bit.ly/Subscrib...  3C66w5Z0ixs_2020-08-12   \n",
       "1  While running her own modding shop, Ramya Pare...  M9Pmf9AB4Mo_2020-08-12   \n",
       "2  I left youtube for a month and this is what ha...  J78aPJ3VyNs_2020-08-12   \n",
       "3  Subscribe to XXL → http://bit.ly/subscribe-xxl...  kXLn3HkpjaA_2020-08-12   \n",
       "4  Transforming The LaBrant Family's empty white ...  VIUo6yapDbc_2020-08-12   \n",
       "\n",
       "  duration_seconds  has_thumbnail    target  fold  \n",
       "0       760.614602           True  0.103596     2  \n",
       "1       760.614602           True  0.061611     9  \n",
       "2       760.614602           True  0.173523     7  \n",
       "3       760.614602           True  0.046804     1  \n",
       "4       760.614602           True  0.040753     6  \n",
       "\n",
       "[5 rows x 21 columns]"
      ]
     },
     "execution_count": 21,
     "metadata": {},
     "output_type": "execute_result"
    }
   ],
   "source": [
    "kf = KFold(n_splits=cfg['N_FOLDS'],\n",
    "           shuffle=True,\n",
    "           random_state=cfg['RANDOM_STATE'])\n",
    "\n",
    "# Create Folds\n",
    "fold = 1\n",
    "for tr_idx, val_idx in kf.split(train_vids):\n",
    "    fold_vids = train_vids[val_idx]\n",
    "    train_set.loc[train_set['video_id'].isin(fold_vids), 'fold'] = fold\n",
    "    fold += 1\n",
    "train_set['fold'] = train_set['fold'].astype('int')\n",
    "train_set.head()"
   ]
  },
  {
   "cell_type": "code",
   "execution_count": 22,
   "id": "f9624a69",
   "metadata": {
    "execution": {
     "iopub.execute_input": "2022-02-08T17:35:43.554881Z",
     "iopub.status.busy": "2022-02-08T17:35:43.554188Z",
     "iopub.status.idle": "2022-02-08T17:35:43.565315Z",
     "shell.execute_reply": "2022-02-08T17:35:43.565856Z",
     "shell.execute_reply.started": "2022-02-08T17:31:37.755964Z"
    },
    "papermill": {
     "duration": 0.059051,
     "end_time": "2022-02-08T17:35:43.566072",
     "exception": false,
     "start_time": "2022-02-08T17:35:43.507021",
     "status": "completed"
    },
    "tags": []
   },
   "outputs": [],
   "source": [
    "def create_features(df, train=True):\n",
    "    \"\"\"\n",
    "    Adds features to training or test set.\n",
    "    \"\"\"\n",
    "    df['publishedAt'] = pd.to_datetime(df['publishedAt'])\n",
    "    df['trending_date'] = pd.to_datetime(df['trending_date'], utc=True)\n",
    "    \n",
    "    # Feature 1 - Age of video\n",
    "    df['video_age_seconds'] = (df['trending_date'] - df['publishedAt']) \\\n",
    "        .dt.total_seconds().astype('int')\n",
    "    \n",
    "    # Trending day of week As a category\n",
    "    df['trending_dow'] = df['trending_date'].dt.day_name()\n",
    "    df['trending_dow']= df['trending_dow'].astype('category')\n",
    "    \n",
    "    df['published_dow'] = df['publishedAt'].dt.day_name()\n",
    "    df['published_dow']= df['published_dow'].astype('category')\n",
    "    \n",
    "    df['categoryId'] = df['categoryId'].astype('category')\n",
    "    \n",
    "    df['channel_occurance'] = df['channelId'].map(\n",
    "       df['channelId'].value_counts().to_dict())\n",
    "\n",
    "    df['channel_unique_video_count'] = df['channelId'].map(\n",
    "       df.groupby('channelId')['video_id'].nunique().to_dict())\n",
    "    \n",
    "    df['video_occurance_count'] = df.groupby('video_id')['trending_date'] \\\n",
    "       .rank().astype('int')\n",
    "    \n",
    "    return df"
   ]
  },
  {
   "cell_type": "code",
   "execution_count": 23,
   "id": "13b56a09",
   "metadata": {
    "execution": {
     "iopub.execute_input": "2022-02-08T17:35:43.661568Z",
     "iopub.status.busy": "2022-02-08T17:35:43.660875Z",
     "iopub.status.idle": "2022-02-08T17:35:44.149364Z",
     "shell.execute_reply": "2022-02-08T17:35:44.149904Z",
     "shell.execute_reply.started": "2022-02-08T17:31:37.767470Z"
    },
    "papermill": {
     "duration": 0.540298,
     "end_time": "2022-02-08T17:35:44.150136",
     "exception": false,
     "start_time": "2022-02-08T17:35:43.609838",
     "status": "completed"
    },
    "tags": []
   },
   "outputs": [],
   "source": [
    "train_set['isTrain'] = True\n",
    "test_set['isTrain'] = False\n",
    "tt = pd.concat([train_set, test_set]).reset_index(drop=True).copy()\n",
    "tt = create_features(tt)\n",
    "train_feats = tt.query('isTrain').reset_index(drop=True).copy()\n",
    "test_feats = tt.query('isTrain == False').reset_index(drop=True).copy()"
   ]
  },
  {
   "cell_type": "code",
   "execution_count": 24,
   "id": "4f7f00b0",
   "metadata": {
    "execution": {
     "iopub.execute_input": "2022-02-08T17:35:44.245388Z",
     "iopub.status.busy": "2022-02-08T17:35:44.244335Z",
     "iopub.status.idle": "2022-02-08T17:35:44.274669Z",
     "shell.execute_reply": "2022-02-08T17:35:44.273962Z",
     "shell.execute_reply.started": "2022-02-08T17:31:38.221261Z"
    },
    "papermill": {
     "duration": 0.080105,
     "end_time": "2022-02-08T17:35:44.274828",
     "exception": false,
     "start_time": "2022-02-08T17:35:44.194723",
     "status": "completed"
    },
    "tags": []
   },
   "outputs": [
    {
     "data": {
      "text/html": [
       "<div>\n",
       "<style scoped>\n",
       "    .dataframe tbody tr th:only-of-type {\n",
       "        vertical-align: middle;\n",
       "    }\n",
       "\n",
       "    .dataframe tbody tr th {\n",
       "        vertical-align: top;\n",
       "    }\n",
       "\n",
       "    .dataframe thead th {\n",
       "        text-align: right;\n",
       "    }\n",
       "</style>\n",
       "<table border=\"1\" class=\"dataframe\">\n",
       "  <thead>\n",
       "    <tr style=\"text-align: right;\">\n",
       "      <th></th>\n",
       "      <th>video_id</th>\n",
       "      <th>title</th>\n",
       "      <th>publishedAt</th>\n",
       "      <th>channelId</th>\n",
       "      <th>channelTitle</th>\n",
       "      <th>categoryId</th>\n",
       "      <th>trending_date</th>\n",
       "      <th>tags</th>\n",
       "      <th>view_count</th>\n",
       "      <th>likes</th>\n",
       "      <th>...</th>\n",
       "      <th>target</th>\n",
       "      <th>fold</th>\n",
       "      <th>isTrain</th>\n",
       "      <th>isTest</th>\n",
       "      <th>video_age_seconds</th>\n",
       "      <th>trending_dow</th>\n",
       "      <th>published_dow</th>\n",
       "      <th>channel_occurance</th>\n",
       "      <th>channel_unique_video_count</th>\n",
       "      <th>video_occurance_count</th>\n",
       "    </tr>\n",
       "  </thead>\n",
       "  <tbody>\n",
       "    <tr>\n",
       "      <th>0</th>\n",
       "      <td>3C66w5Z0ixs</td>\n",
       "      <td>I ASKED HER TO BE MY GIRLFRIEND...</td>\n",
       "      <td>2020-08-11 19:20:14+00:00</td>\n",
       "      <td>UCvtRTOMP2TqYqu51xNrqAzg</td>\n",
       "      <td>Brawadis</td>\n",
       "      <td>22</td>\n",
       "      <td>2020-08-12 00:00:00+00:00</td>\n",
       "      <td>brawadis|prank|basketball|skits|ghost|funny vi...</td>\n",
       "      <td>1514614.0</td>\n",
       "      <td>156908.0</td>\n",
       "      <td>...</td>\n",
       "      <td>0.103596</td>\n",
       "      <td>2.0</td>\n",
       "      <td>True</td>\n",
       "      <td>NaN</td>\n",
       "      <td>16786</td>\n",
       "      <td>Wednesday</td>\n",
       "      <td>Tuesday</td>\n",
       "      <td>35</td>\n",
       "      <td>5</td>\n",
       "      <td>1</td>\n",
       "    </tr>\n",
       "    <tr>\n",
       "      <th>1</th>\n",
       "      <td>M9Pmf9AB4Mo</td>\n",
       "      <td>Apex Legends | Stories from the Outlands – “Th...</td>\n",
       "      <td>2020-08-11 17:00:10+00:00</td>\n",
       "      <td>UC0ZV6M2THA81QT9hrVWJG3A</td>\n",
       "      <td>Apex Legends</td>\n",
       "      <td>20</td>\n",
       "      <td>2020-08-12 00:00:00+00:00</td>\n",
       "      <td>Apex Legends|Apex Legends characters|new Apex ...</td>\n",
       "      <td>2381688.0</td>\n",
       "      <td>146739.0</td>\n",
       "      <td>...</td>\n",
       "      <td>0.061611</td>\n",
       "      <td>9.0</td>\n",
       "      <td>True</td>\n",
       "      <td>NaN</td>\n",
       "      <td>25190</td>\n",
       "      <td>Wednesday</td>\n",
       "      <td>Tuesday</td>\n",
       "      <td>216</td>\n",
       "      <td>36</td>\n",
       "      <td>1</td>\n",
       "    </tr>\n",
       "    <tr>\n",
       "      <th>2</th>\n",
       "      <td>J78aPJ3VyNs</td>\n",
       "      <td>I left youtube for a month and THIS is what ha...</td>\n",
       "      <td>2020-08-11 16:34:06+00:00</td>\n",
       "      <td>UCYzPXprvl5Y-Sf0g4vX-m6g</td>\n",
       "      <td>jacksepticeye</td>\n",
       "      <td>24</td>\n",
       "      <td>2020-08-12 00:00:00+00:00</td>\n",
       "      <td>jacksepticeye|funny|funny meme|memes|jacksepti...</td>\n",
       "      <td>2038853.0</td>\n",
       "      <td>353787.0</td>\n",
       "      <td>...</td>\n",
       "      <td>0.173523</td>\n",
       "      <td>7.0</td>\n",
       "      <td>True</td>\n",
       "      <td>NaN</td>\n",
       "      <td>26754</td>\n",
       "      <td>Wednesday</td>\n",
       "      <td>Tuesday</td>\n",
       "      <td>112</td>\n",
       "      <td>19</td>\n",
       "      <td>1</td>\n",
       "    </tr>\n",
       "    <tr>\n",
       "      <th>3</th>\n",
       "      <td>kXLn3HkpjaA</td>\n",
       "      <td>XXL 2020 Freshman Class Revealed - Official An...</td>\n",
       "      <td>2020-08-11 16:38:55+00:00</td>\n",
       "      <td>UCbg_UMjlHJg_19SZckaKajg</td>\n",
       "      <td>XXL</td>\n",
       "      <td>10</td>\n",
       "      <td>2020-08-12 00:00:00+00:00</td>\n",
       "      <td>xxl freshman|xxl freshmen|2020 xxl freshman|20...</td>\n",
       "      <td>496771.0</td>\n",
       "      <td>23251.0</td>\n",
       "      <td>...</td>\n",
       "      <td>0.046804</td>\n",
       "      <td>1.0</td>\n",
       "      <td>True</td>\n",
       "      <td>NaN</td>\n",
       "      <td>26465</td>\n",
       "      <td>Wednesday</td>\n",
       "      <td>Tuesday</td>\n",
       "      <td>111</td>\n",
       "      <td>22</td>\n",
       "      <td>1</td>\n",
       "    </tr>\n",
       "    <tr>\n",
       "      <th>4</th>\n",
       "      <td>VIUo6yapDbc</td>\n",
       "      <td>Ultimate DIY Home Movie Theater for The LaBran...</td>\n",
       "      <td>2020-08-11 15:10:05+00:00</td>\n",
       "      <td>UCDVPcEbVLQgLZX0Rt6jo34A</td>\n",
       "      <td>Mr. Kate</td>\n",
       "      <td>26</td>\n",
       "      <td>2020-08-12 00:00:00+00:00</td>\n",
       "      <td>The LaBrant Family|DIY|Interior Design|Makeove...</td>\n",
       "      <td>1123889.0</td>\n",
       "      <td>45802.0</td>\n",
       "      <td>...</td>\n",
       "      <td>0.040753</td>\n",
       "      <td>6.0</td>\n",
       "      <td>True</td>\n",
       "      <td>NaN</td>\n",
       "      <td>31795</td>\n",
       "      <td>Wednesday</td>\n",
       "      <td>Tuesday</td>\n",
       "      <td>56</td>\n",
       "      <td>11</td>\n",
       "      <td>1</td>\n",
       "    </tr>\n",
       "  </tbody>\n",
       "</table>\n",
       "<p>5 rows × 29 columns</p>\n",
       "</div>"
      ],
      "text/plain": [
       "      video_id                                              title  \\\n",
       "0  3C66w5Z0ixs                 I ASKED HER TO BE MY GIRLFRIEND...   \n",
       "1  M9Pmf9AB4Mo  Apex Legends | Stories from the Outlands – “Th...   \n",
       "2  J78aPJ3VyNs  I left youtube for a month and THIS is what ha...   \n",
       "3  kXLn3HkpjaA  XXL 2020 Freshman Class Revealed - Official An...   \n",
       "4  VIUo6yapDbc  Ultimate DIY Home Movie Theater for The LaBran...   \n",
       "\n",
       "                publishedAt                 channelId   channelTitle  \\\n",
       "0 2020-08-11 19:20:14+00:00  UCvtRTOMP2TqYqu51xNrqAzg       Brawadis   \n",
       "1 2020-08-11 17:00:10+00:00  UC0ZV6M2THA81QT9hrVWJG3A   Apex Legends   \n",
       "2 2020-08-11 16:34:06+00:00  UCYzPXprvl5Y-Sf0g4vX-m6g  jacksepticeye   \n",
       "3 2020-08-11 16:38:55+00:00  UCbg_UMjlHJg_19SZckaKajg            XXL   \n",
       "4 2020-08-11 15:10:05+00:00  UCDVPcEbVLQgLZX0Rt6jo34A       Mr. Kate   \n",
       "\n",
       "  categoryId             trending_date  \\\n",
       "0         22 2020-08-12 00:00:00+00:00   \n",
       "1         20 2020-08-12 00:00:00+00:00   \n",
       "2         24 2020-08-12 00:00:00+00:00   \n",
       "3         10 2020-08-12 00:00:00+00:00   \n",
       "4         26 2020-08-12 00:00:00+00:00   \n",
       "\n",
       "                                                tags  view_count     likes  \\\n",
       "0  brawadis|prank|basketball|skits|ghost|funny vi...   1514614.0  156908.0   \n",
       "1  Apex Legends|Apex Legends characters|new Apex ...   2381688.0  146739.0   \n",
       "2  jacksepticeye|funny|funny meme|memes|jacksepti...   2038853.0  353787.0   \n",
       "3  xxl freshman|xxl freshmen|2020 xxl freshman|20...    496771.0   23251.0   \n",
       "4  The LaBrant Family|DIY|Interior Design|Makeove...   1123889.0   45802.0   \n",
       "\n",
       "   ...    target  fold isTrain  isTest  video_age_seconds trending_dow  \\\n",
       "0  ...  0.103596   2.0    True     NaN              16786    Wednesday   \n",
       "1  ...  0.061611   9.0    True     NaN              25190    Wednesday   \n",
       "2  ...  0.173523   7.0    True     NaN              26754    Wednesday   \n",
       "3  ...  0.046804   1.0    True     NaN              26465    Wednesday   \n",
       "4  ...  0.040753   6.0    True     NaN              31795    Wednesday   \n",
       "\n",
       "  published_dow  channel_occurance  channel_unique_video_count  \\\n",
       "0       Tuesday                 35                           5   \n",
       "1       Tuesday                216                          36   \n",
       "2       Tuesday                112                          19   \n",
       "3       Tuesday                111                          22   \n",
       "4       Tuesday                 56                          11   \n",
       "\n",
       "   video_occurance_count  \n",
       "0                      1  \n",
       "1                      1  \n",
       "2                      1  \n",
       "3                      1  \n",
       "4                      1  \n",
       "\n",
       "[5 rows x 29 columns]"
      ]
     },
     "execution_count": 24,
     "metadata": {},
     "output_type": "execute_result"
    }
   ],
   "source": [
    "train_feats.head()"
   ]
  },
  {
   "cell_type": "code",
   "execution_count": 25,
   "id": "6f39ff56",
   "metadata": {
    "execution": {
     "iopub.execute_input": "2022-02-08T17:35:44.374267Z",
     "iopub.status.busy": "2022-02-08T17:35:44.373166Z",
     "iopub.status.idle": "2022-02-08T17:35:44.400234Z",
     "shell.execute_reply": "2022-02-08T17:35:44.399520Z",
     "shell.execute_reply.started": "2022-02-08T17:31:38.252734Z"
    },
    "papermill": {
     "duration": 0.080142,
     "end_time": "2022-02-08T17:35:44.400396",
     "exception": false,
     "start_time": "2022-02-08T17:35:44.320254",
     "status": "completed"
    },
    "tags": []
   },
   "outputs": [
    {
     "data": {
      "text/html": [
       "<div>\n",
       "<style scoped>\n",
       "    .dataframe tbody tr th:only-of-type {\n",
       "        vertical-align: middle;\n",
       "    }\n",
       "\n",
       "    .dataframe tbody tr th {\n",
       "        vertical-align: top;\n",
       "    }\n",
       "\n",
       "    .dataframe thead th {\n",
       "        text-align: right;\n",
       "    }\n",
       "</style>\n",
       "<table border=\"1\" class=\"dataframe\">\n",
       "  <thead>\n",
       "    <tr style=\"text-align: right;\">\n",
       "      <th></th>\n",
       "      <th>video_id</th>\n",
       "      <th>title</th>\n",
       "      <th>publishedAt</th>\n",
       "      <th>channelId</th>\n",
       "      <th>channelTitle</th>\n",
       "      <th>categoryId</th>\n",
       "      <th>trending_date</th>\n",
       "      <th>tags</th>\n",
       "      <th>view_count</th>\n",
       "      <th>likes</th>\n",
       "      <th>...</th>\n",
       "      <th>thumbnail_link</th>\n",
       "      <th>comments_disabled</th>\n",
       "      <th>ratings_disabled</th>\n",
       "      <th>description</th>\n",
       "      <th>id</th>\n",
       "      <th>duration_seconds</th>\n",
       "      <th>has_thumbnail</th>\n",
       "      <th>target</th>\n",
       "      <th>fold</th>\n",
       "      <th>isTrain</th>\n",
       "    </tr>\n",
       "  </thead>\n",
       "  <tbody>\n",
       "    <tr>\n",
       "      <th>0</th>\n",
       "      <td>3C66w5Z0ixs</td>\n",
       "      <td>I ASKED HER TO BE MY GIRLFRIEND...</td>\n",
       "      <td>2020-08-11 19:20:14+00:00</td>\n",
       "      <td>UCvtRTOMP2TqYqu51xNrqAzg</td>\n",
       "      <td>Brawadis</td>\n",
       "      <td>22</td>\n",
       "      <td>2020-08-12</td>\n",
       "      <td>brawadis|prank|basketball|skits|ghost|funny vi...</td>\n",
       "      <td>1514614</td>\n",
       "      <td>156908</td>\n",
       "      <td>...</td>\n",
       "      <td>https://i.ytimg.com/vi/3C66w5Z0ixs/default.jpg</td>\n",
       "      <td>False</td>\n",
       "      <td>False</td>\n",
       "      <td>SUBSCRIBE to BRAWADIS ▶ http://bit.ly/Subscrib...</td>\n",
       "      <td>3C66w5Z0ixs_2020-08-12</td>\n",
       "      <td>760.614602</td>\n",
       "      <td>True</td>\n",
       "      <td>0.103596</td>\n",
       "      <td>2</td>\n",
       "      <td>True</td>\n",
       "    </tr>\n",
       "    <tr>\n",
       "      <th>1</th>\n",
       "      <td>M9Pmf9AB4Mo</td>\n",
       "      <td>Apex Legends | Stories from the Outlands – “Th...</td>\n",
       "      <td>2020-08-11 17:00:10+00:00</td>\n",
       "      <td>UC0ZV6M2THA81QT9hrVWJG3A</td>\n",
       "      <td>Apex Legends</td>\n",
       "      <td>20</td>\n",
       "      <td>2020-08-12</td>\n",
       "      <td>Apex Legends|Apex Legends characters|new Apex ...</td>\n",
       "      <td>2381688</td>\n",
       "      <td>146739</td>\n",
       "      <td>...</td>\n",
       "      <td>https://i.ytimg.com/vi/M9Pmf9AB4Mo/default.jpg</td>\n",
       "      <td>False</td>\n",
       "      <td>False</td>\n",
       "      <td>While running her own modding shop, Ramya Pare...</td>\n",
       "      <td>M9Pmf9AB4Mo_2020-08-12</td>\n",
       "      <td>760.614602</td>\n",
       "      <td>True</td>\n",
       "      <td>0.061611</td>\n",
       "      <td>9</td>\n",
       "      <td>True</td>\n",
       "    </tr>\n",
       "    <tr>\n",
       "      <th>2</th>\n",
       "      <td>J78aPJ3VyNs</td>\n",
       "      <td>I left youtube for a month and THIS is what ha...</td>\n",
       "      <td>2020-08-11 16:34:06+00:00</td>\n",
       "      <td>UCYzPXprvl5Y-Sf0g4vX-m6g</td>\n",
       "      <td>jacksepticeye</td>\n",
       "      <td>24</td>\n",
       "      <td>2020-08-12</td>\n",
       "      <td>jacksepticeye|funny|funny meme|memes|jacksepti...</td>\n",
       "      <td>2038853</td>\n",
       "      <td>353787</td>\n",
       "      <td>...</td>\n",
       "      <td>https://i.ytimg.com/vi/J78aPJ3VyNs/default.jpg</td>\n",
       "      <td>False</td>\n",
       "      <td>False</td>\n",
       "      <td>I left youtube for a month and this is what ha...</td>\n",
       "      <td>J78aPJ3VyNs_2020-08-12</td>\n",
       "      <td>760.614602</td>\n",
       "      <td>True</td>\n",
       "      <td>0.173523</td>\n",
       "      <td>7</td>\n",
       "      <td>True</td>\n",
       "    </tr>\n",
       "    <tr>\n",
       "      <th>3</th>\n",
       "      <td>kXLn3HkpjaA</td>\n",
       "      <td>XXL 2020 Freshman Class Revealed - Official An...</td>\n",
       "      <td>2020-08-11 16:38:55+00:00</td>\n",
       "      <td>UCbg_UMjlHJg_19SZckaKajg</td>\n",
       "      <td>XXL</td>\n",
       "      <td>10</td>\n",
       "      <td>2020-08-12</td>\n",
       "      <td>xxl freshman|xxl freshmen|2020 xxl freshman|20...</td>\n",
       "      <td>496771</td>\n",
       "      <td>23251</td>\n",
       "      <td>...</td>\n",
       "      <td>https://i.ytimg.com/vi/kXLn3HkpjaA/default.jpg</td>\n",
       "      <td>False</td>\n",
       "      <td>False</td>\n",
       "      <td>Subscribe to XXL → http://bit.ly/subscribe-xxl...</td>\n",
       "      <td>kXLn3HkpjaA_2020-08-12</td>\n",
       "      <td>760.614602</td>\n",
       "      <td>True</td>\n",
       "      <td>0.046804</td>\n",
       "      <td>1</td>\n",
       "      <td>True</td>\n",
       "    </tr>\n",
       "    <tr>\n",
       "      <th>4</th>\n",
       "      <td>VIUo6yapDbc</td>\n",
       "      <td>Ultimate DIY Home Movie Theater for The LaBran...</td>\n",
       "      <td>2020-08-11 15:10:05+00:00</td>\n",
       "      <td>UCDVPcEbVLQgLZX0Rt6jo34A</td>\n",
       "      <td>Mr. Kate</td>\n",
       "      <td>26</td>\n",
       "      <td>2020-08-12</td>\n",
       "      <td>The LaBrant Family|DIY|Interior Design|Makeove...</td>\n",
       "      <td>1123889</td>\n",
       "      <td>45802</td>\n",
       "      <td>...</td>\n",
       "      <td>https://i.ytimg.com/vi/VIUo6yapDbc/default.jpg</td>\n",
       "      <td>False</td>\n",
       "      <td>False</td>\n",
       "      <td>Transforming The LaBrant Family's empty white ...</td>\n",
       "      <td>VIUo6yapDbc_2020-08-12</td>\n",
       "      <td>760.614602</td>\n",
       "      <td>True</td>\n",
       "      <td>0.040753</td>\n",
       "      <td>6</td>\n",
       "      <td>True</td>\n",
       "    </tr>\n",
       "  </tbody>\n",
       "</table>\n",
       "<p>5 rows × 22 columns</p>\n",
       "</div>"
      ],
      "text/plain": [
       "      video_id                                              title  \\\n",
       "0  3C66w5Z0ixs                 I ASKED HER TO BE MY GIRLFRIEND...   \n",
       "1  M9Pmf9AB4Mo  Apex Legends | Stories from the Outlands – “Th...   \n",
       "2  J78aPJ3VyNs  I left youtube for a month and THIS is what ha...   \n",
       "3  kXLn3HkpjaA  XXL 2020 Freshman Class Revealed - Official An...   \n",
       "4  VIUo6yapDbc  Ultimate DIY Home Movie Theater for The LaBran...   \n",
       "\n",
       "                publishedAt                 channelId   channelTitle  \\\n",
       "0 2020-08-11 19:20:14+00:00  UCvtRTOMP2TqYqu51xNrqAzg       Brawadis   \n",
       "1 2020-08-11 17:00:10+00:00  UC0ZV6M2THA81QT9hrVWJG3A   Apex Legends   \n",
       "2 2020-08-11 16:34:06+00:00  UCYzPXprvl5Y-Sf0g4vX-m6g  jacksepticeye   \n",
       "3 2020-08-11 16:38:55+00:00  UCbg_UMjlHJg_19SZckaKajg            XXL   \n",
       "4 2020-08-11 15:10:05+00:00  UCDVPcEbVLQgLZX0Rt6jo34A       Mr. Kate   \n",
       "\n",
       "   categoryId trending_date  \\\n",
       "0          22    2020-08-12   \n",
       "1          20    2020-08-12   \n",
       "2          24    2020-08-12   \n",
       "3          10    2020-08-12   \n",
       "4          26    2020-08-12   \n",
       "\n",
       "                                                tags  view_count   likes  ...  \\\n",
       "0  brawadis|prank|basketball|skits|ghost|funny vi...     1514614  156908  ...   \n",
       "1  Apex Legends|Apex Legends characters|new Apex ...     2381688  146739  ...   \n",
       "2  jacksepticeye|funny|funny meme|memes|jacksepti...     2038853  353787  ...   \n",
       "3  xxl freshman|xxl freshmen|2020 xxl freshman|20...      496771   23251  ...   \n",
       "4  The LaBrant Family|DIY|Interior Design|Makeove...     1123889   45802  ...   \n",
       "\n",
       "                                   thumbnail_link  comments_disabled  \\\n",
       "0  https://i.ytimg.com/vi/3C66w5Z0ixs/default.jpg              False   \n",
       "1  https://i.ytimg.com/vi/M9Pmf9AB4Mo/default.jpg              False   \n",
       "2  https://i.ytimg.com/vi/J78aPJ3VyNs/default.jpg              False   \n",
       "3  https://i.ytimg.com/vi/kXLn3HkpjaA/default.jpg              False   \n",
       "4  https://i.ytimg.com/vi/VIUo6yapDbc/default.jpg              False   \n",
       "\n",
       "  ratings_disabled                                        description  \\\n",
       "0            False  SUBSCRIBE to BRAWADIS ▶ http://bit.ly/Subscrib...   \n",
       "1            False  While running her own modding shop, Ramya Pare...   \n",
       "2            False  I left youtube for a month and this is what ha...   \n",
       "3            False  Subscribe to XXL → http://bit.ly/subscribe-xxl...   \n",
       "4            False  Transforming The LaBrant Family's empty white ...   \n",
       "\n",
       "                       id duration_seconds has_thumbnail    target  fold  \\\n",
       "0  3C66w5Z0ixs_2020-08-12       760.614602          True  0.103596     2   \n",
       "1  M9Pmf9AB4Mo_2020-08-12       760.614602          True  0.061611     9   \n",
       "2  J78aPJ3VyNs_2020-08-12       760.614602          True  0.173523     7   \n",
       "3  kXLn3HkpjaA_2020-08-12       760.614602          True  0.046804     1   \n",
       "4  VIUo6yapDbc_2020-08-12       760.614602          True  0.040753     6   \n",
       "\n",
       "   isTrain  \n",
       "0     True  \n",
       "1     True  \n",
       "2     True  \n",
       "3     True  \n",
       "4     True  \n",
       "\n",
       "[5 rows x 22 columns]"
      ]
     },
     "execution_count": 25,
     "metadata": {},
     "output_type": "execute_result"
    }
   ],
   "source": [
    "train_set.head()"
   ]
  },
  {
   "cell_type": "code",
   "execution_count": 26,
   "id": "70eef3d8",
   "metadata": {
    "execution": {
     "iopub.execute_input": "2022-02-08T17:35:44.499760Z",
     "iopub.status.busy": "2022-02-08T17:35:44.498679Z",
     "iopub.status.idle": "2022-02-08T17:35:44.501709Z",
     "shell.execute_reply": "2022-02-08T17:35:44.501072Z",
     "shell.execute_reply.started": "2022-02-08T17:31:38.284695Z"
    },
    "papermill": {
     "duration": 0.055809,
     "end_time": "2022-02-08T17:35:44.501877",
     "exception": false,
     "start_time": "2022-02-08T17:35:44.446068",
     "status": "completed"
    },
    "tags": []
   },
   "outputs": [],
   "source": [
    "FEATURES = ['video_age_seconds',\n",
    "            'trending_dow',\n",
    "            'published_dow',\n",
    "            'categoryId',\n",
    "            'duration_seconds',\n",
    "            'comments_disabled',\n",
    "            'ratings_disabled',\n",
    "            'channel_occurance',\n",
    "            'channel_unique_video_count',\n",
    "            'video_occurance_count'\n",
    "]\n",
    "\n",
    "TARGET = ['target']"
   ]
  },
  {
   "cell_type": "code",
   "execution_count": 27,
   "id": "f6f61110",
   "metadata": {
    "execution": {
     "iopub.execute_input": "2022-02-08T17:35:44.605284Z",
     "iopub.status.busy": "2022-02-08T17:35:44.602179Z",
     "iopub.status.idle": "2022-02-08T17:35:44.612793Z",
     "shell.execute_reply": "2022-02-08T17:35:44.612141Z",
     "shell.execute_reply.started": "2022-02-08T17:31:38.290652Z"
    },
    "papermill": {
     "duration": 0.064064,
     "end_time": "2022-02-08T17:35:44.612950",
     "exception": false,
     "start_time": "2022-02-08T17:35:44.548886",
     "status": "completed"
    },
    "tags": []
   },
   "outputs": [],
   "source": [
    "#code by https://www.kaggle.com/sandhyakrishnan02/pog-on-youtube-lgbm/notebook\n",
    "X_test = test_feats[FEATURES]\n",
    "oof = train_feats[['id','target', 'fold']].reset_index(drop=True).copy()\n",
    "submission_df = test_set[['id']].copy()"
   ]
  },
  {
   "cell_type": "code",
   "execution_count": 28,
   "id": "ac99b618",
   "metadata": {
    "execution": {
     "iopub.execute_input": "2022-02-08T17:35:44.715749Z",
     "iopub.status.busy": "2022-02-08T17:35:44.706801Z",
     "iopub.status.idle": "2022-02-08T17:35:44.719144Z",
     "shell.execute_reply": "2022-02-08T17:35:44.719737Z",
     "shell.execute_reply.started": "2022-02-08T17:31:38.315994Z"
    },
    "papermill": {
     "duration": 0.061605,
     "end_time": "2022-02-08T17:35:44.719921",
     "exception": false,
     "start_time": "2022-02-08T17:35:44.658316",
     "status": "completed"
    },
    "tags": []
   },
   "outputs": [
    {
     "data": {
      "text/html": [
       "<div>\n",
       "<style scoped>\n",
       "    .dataframe tbody tr th:only-of-type {\n",
       "        vertical-align: middle;\n",
       "    }\n",
       "\n",
       "    .dataframe tbody tr th {\n",
       "        vertical-align: top;\n",
       "    }\n",
       "\n",
       "    .dataframe thead th {\n",
       "        text-align: right;\n",
       "    }\n",
       "</style>\n",
       "<table border=\"1\" class=\"dataframe\">\n",
       "  <thead>\n",
       "    <tr style=\"text-align: right;\">\n",
       "      <th></th>\n",
       "      <th>id</th>\n",
       "      <th>target</th>\n",
       "      <th>fold</th>\n",
       "    </tr>\n",
       "  </thead>\n",
       "  <tbody>\n",
       "    <tr>\n",
       "      <th>0</th>\n",
       "      <td>3C66w5Z0ixs_2020-08-12</td>\n",
       "      <td>0.103596</td>\n",
       "      <td>2.0</td>\n",
       "    </tr>\n",
       "    <tr>\n",
       "      <th>1</th>\n",
       "      <td>M9Pmf9AB4Mo_2020-08-12</td>\n",
       "      <td>0.061611</td>\n",
       "      <td>9.0</td>\n",
       "    </tr>\n",
       "    <tr>\n",
       "      <th>2</th>\n",
       "      <td>J78aPJ3VyNs_2020-08-12</td>\n",
       "      <td>0.173523</td>\n",
       "      <td>7.0</td>\n",
       "    </tr>\n",
       "    <tr>\n",
       "      <th>3</th>\n",
       "      <td>kXLn3HkpjaA_2020-08-12</td>\n",
       "      <td>0.046804</td>\n",
       "      <td>1.0</td>\n",
       "    </tr>\n",
       "    <tr>\n",
       "      <th>4</th>\n",
       "      <td>VIUo6yapDbc_2020-08-12</td>\n",
       "      <td>0.040753</td>\n",
       "      <td>6.0</td>\n",
       "    </tr>\n",
       "  </tbody>\n",
       "</table>\n",
       "</div>"
      ],
      "text/plain": [
       "                       id    target  fold\n",
       "0  3C66w5Z0ixs_2020-08-12  0.103596   2.0\n",
       "1  M9Pmf9AB4Mo_2020-08-12  0.061611   9.0\n",
       "2  J78aPJ3VyNs_2020-08-12  0.173523   7.0\n",
       "3  kXLn3HkpjaA_2020-08-12  0.046804   1.0\n",
       "4  VIUo6yapDbc_2020-08-12  0.040753   6.0"
      ]
     },
     "execution_count": 28,
     "metadata": {},
     "output_type": "execute_result"
    }
   ],
   "source": [
    "oof.head()"
   ]
  },
  {
   "cell_type": "code",
   "execution_count": 29,
   "id": "50b29151",
   "metadata": {
    "execution": {
     "iopub.execute_input": "2022-02-08T17:35:44.834855Z",
     "iopub.status.busy": "2022-02-08T17:35:44.833737Z",
     "iopub.status.idle": "2022-02-08T17:39:04.831243Z",
     "shell.execute_reply": "2022-02-08T17:39:04.832758Z",
     "shell.execute_reply.started": "2022-02-08T17:31:38.329114Z"
    },
    "papermill": {
     "duration": 200.067645,
     "end_time": "2022-02-08T17:39:04.833220",
     "exception": false,
     "start_time": "2022-02-08T17:35:44.765575",
     "status": "completed"
    },
    "tags": []
   },
   "outputs": [
    {
     "name": "stdout",
     "output_type": "stream",
     "text": [
      "===== Running for fold 1 =====\n",
      "(83021, 10) (83021, 1) (9254, 10) (9254, 1)\n",
      "[200]\tvalid_0's l1: 0.0188393\n",
      "[400]\tvalid_0's l1: 0.018209\n",
      "[600]\tvalid_0's l1: 0.0177176\n",
      "[800]\tvalid_0's l1: 0.0175812\n",
      "[1000]\tvalid_0's l1: 0.0175139\n",
      "[1200]\tvalid_0's l1: 0.0174647\n",
      "[1400]\tvalid_0's l1: 0.0174344\n",
      "[1600]\tvalid_0's l1: 0.0173217\n",
      "[1800]\tvalid_0's l1: 0.0173224\n",
      "[2000]\tvalid_0's l1: 0.0173297\n",
      "Score of this fold is 0.017279\n",
      "===== Running for fold 2 =====\n",
      "(83017, 10) (83017, 1) (9258, 10) (9258, 1)\n",
      "[200]\tvalid_0's l1: 0.0191249\n",
      "[400]\tvalid_0's l1: 0.0186178\n",
      "[600]\tvalid_0's l1: 0.018347\n",
      "[800]\tvalid_0's l1: 0.0180243\n",
      "[1000]\tvalid_0's l1: 0.0179454\n",
      "[1200]\tvalid_0's l1: 0.0178626\n",
      "[1400]\tvalid_0's l1: 0.0177301\n",
      "[1600]\tvalid_0's l1: 0.0177529\n",
      "[1800]\tvalid_0's l1: 0.0177587\n",
      "Score of this fold is 0.017279\n",
      "===== Running for fold 3 =====\n",
      "(83059, 10) (83059, 1) (9216, 10) (9216, 1)\n",
      "[200]\tvalid_0's l1: 0.0204356\n",
      "[400]\tvalid_0's l1: 0.0197896\n",
      "[600]\tvalid_0's l1: 0.0194864\n",
      "[800]\tvalid_0's l1: 0.0192502\n",
      "[1000]\tvalid_0's l1: 0.0191422\n",
      "[1200]\tvalid_0's l1: 0.0191515\n",
      "[1400]\tvalid_0's l1: 0.0190949\n",
      "[1600]\tvalid_0's l1: 0.01907\n",
      "[1800]\tvalid_0's l1: 0.0190427\n",
      "[2000]\tvalid_0's l1: 0.0190249\n",
      "[2200]\tvalid_0's l1: 0.0190154\n",
      "[2400]\tvalid_0's l1: 0.0189814\n",
      "[2600]\tvalid_0's l1: 0.0190131\n",
      "[2800]\tvalid_0's l1: 0.0190261\n",
      "Score of this fold is 0.017279\n",
      "===== Running for fold 4 =====\n",
      "(83037, 10) (83037, 1) (9238, 10) (9238, 1)\n",
      "[200]\tvalid_0's l1: 0.0199547\n",
      "[400]\tvalid_0's l1: 0.0194563\n",
      "[600]\tvalid_0's l1: 0.0192426\n",
      "[800]\tvalid_0's l1: 0.0191484\n",
      "[1000]\tvalid_0's l1: 0.0190626\n",
      "[1200]\tvalid_0's l1: 0.01904\n",
      "[1400]\tvalid_0's l1: 0.019026\n",
      "[1600]\tvalid_0's l1: 0.0189453\n",
      "[1800]\tvalid_0's l1: 0.0189376\n",
      "[2000]\tvalid_0's l1: 0.0189453\n",
      "[2200]\tvalid_0's l1: 0.0189387\n",
      "[2400]\tvalid_0's l1: 0.0189484\n",
      "Score of this fold is 0.017279\n",
      "===== Running for fold 5 =====\n",
      "(83094, 10) (83094, 1) (9181, 10) (9181, 1)\n",
      "[200]\tvalid_0's l1: 0.0197316\n",
      "[400]\tvalid_0's l1: 0.0191718\n",
      "[600]\tvalid_0's l1: 0.0188405\n",
      "[800]\tvalid_0's l1: 0.0186157\n",
      "[1000]\tvalid_0's l1: 0.0184394\n",
      "[1200]\tvalid_0's l1: 0.0183712\n",
      "[1400]\tvalid_0's l1: 0.0183754\n",
      "[1600]\tvalid_0's l1: 0.0183692\n",
      "[1800]\tvalid_0's l1: 0.0183689\n",
      "[2000]\tvalid_0's l1: 0.018336\n",
      "[2200]\tvalid_0's l1: 0.018344\n",
      "Score of this fold is 0.017279\n",
      "===== Running for fold 6 =====\n",
      "(82910, 10) (82910, 1) (9365, 10) (9365, 1)\n",
      "[200]\tvalid_0's l1: 0.0208919\n",
      "[400]\tvalid_0's l1: 0.0203268\n",
      "[600]\tvalid_0's l1: 0.0200182\n",
      "[800]\tvalid_0's l1: 0.0198859\n",
      "[1000]\tvalid_0's l1: 0.0197557\n",
      "[1200]\tvalid_0's l1: 0.0197242\n",
      "[1400]\tvalid_0's l1: 0.0197007\n",
      "[1600]\tvalid_0's l1: 0.0196217\n",
      "[1800]\tvalid_0's l1: 0.0195403\n",
      "[2000]\tvalid_0's l1: 0.0195035\n",
      "[2200]\tvalid_0's l1: 0.0194683\n",
      "[2400]\tvalid_0's l1: 0.0193513\n",
      "[2600]\tvalid_0's l1: 0.0193222\n",
      "[2800]\tvalid_0's l1: 0.0193138\n",
      "[3000]\tvalid_0's l1: 0.0192831\n",
      "[3200]\tvalid_0's l1: 0.0192736\n",
      "[3400]\tvalid_0's l1: 0.0192831\n",
      "[3600]\tvalid_0's l1: 0.0192733\n",
      "[3800]\tvalid_0's l1: 0.019232\n",
      "[4000]\tvalid_0's l1: 0.0192025\n",
      "[4200]\tvalid_0's l1: 0.0192021\n",
      "[4400]\tvalid_0's l1: 0.0192062\n",
      "[4600]\tvalid_0's l1: 0.0192076\n",
      "Score of this fold is 0.017279\n",
      "===== Running for fold 7 =====\n",
      "(83059, 10) (83059, 1) (9216, 10) (9216, 1)\n",
      "[200]\tvalid_0's l1: 0.0189532\n",
      "[400]\tvalid_0's l1: 0.0184993\n",
      "[600]\tvalid_0's l1: 0.0183762\n",
      "[800]\tvalid_0's l1: 0.0181996\n",
      "[1000]\tvalid_0's l1: 0.0180315\n",
      "[1200]\tvalid_0's l1: 0.0179593\n",
      "[1400]\tvalid_0's l1: 0.0178949\n",
      "[1600]\tvalid_0's l1: 0.0178752\n",
      "[1800]\tvalid_0's l1: 0.017856\n",
      "[2000]\tvalid_0's l1: 0.0178328\n",
      "[2200]\tvalid_0's l1: 0.0178144\n",
      "[2400]\tvalid_0's l1: 0.0178134\n",
      "[2600]\tvalid_0's l1: 0.0177633\n",
      "[2800]\tvalid_0's l1: 0.017779\n",
      "[3000]\tvalid_0's l1: 0.0178116\n",
      "Score of this fold is 0.017279\n",
      "===== Running for fold 8 =====\n",
      "(83174, 10) (83174, 1) (9101, 10) (9101, 1)\n",
      "[200]\tvalid_0's l1: 0.0191766\n",
      "[400]\tvalid_0's l1: 0.0185556\n",
      "[600]\tvalid_0's l1: 0.0182219\n",
      "[800]\tvalid_0's l1: 0.0181309\n",
      "[1000]\tvalid_0's l1: 0.0180235\n",
      "[1200]\tvalid_0's l1: 0.0180227\n",
      "[1400]\tvalid_0's l1: 0.0178871\n",
      "[1600]\tvalid_0's l1: 0.0178727\n",
      "[1800]\tvalid_0's l1: 0.0178491\n",
      "[2000]\tvalid_0's l1: 0.0178619\n",
      "[2200]\tvalid_0's l1: 0.0178021\n",
      "[2400]\tvalid_0's l1: 0.0177914\n",
      "[2600]\tvalid_0's l1: 0.0177598\n",
      "[2800]\tvalid_0's l1: 0.0177497\n",
      "[3000]\tvalid_0's l1: 0.0177352\n",
      "[3200]\tvalid_0's l1: 0.0177118\n",
      "[3400]\tvalid_0's l1: 0.0177172\n",
      "[3600]\tvalid_0's l1: 0.017699\n",
      "[3800]\tvalid_0's l1: 0.017693\n",
      "[4000]\tvalid_0's l1: 0.0177375\n",
      "[4200]\tvalid_0's l1: 0.0177282\n",
      "Score of this fold is 0.017279\n",
      "===== Running for fold 9 =====\n",
      "(83076, 10) (83076, 1) (9199, 10) (9199, 1)\n",
      "[200]\tvalid_0's l1: 0.019628\n",
      "[400]\tvalid_0's l1: 0.0194309\n",
      "[600]\tvalid_0's l1: 0.0192677\n",
      "[800]\tvalid_0's l1: 0.0191021\n",
      "[1000]\tvalid_0's l1: 0.0189578\n",
      "[1200]\tvalid_0's l1: 0.0188624\n",
      "[1400]\tvalid_0's l1: 0.0188069\n",
      "[1600]\tvalid_0's l1: 0.0188388\n",
      "[1800]\tvalid_0's l1: 0.0187537\n",
      "[2000]\tvalid_0's l1: 0.0187575\n",
      "[2200]\tvalid_0's l1: 0.0187357\n",
      "[2400]\tvalid_0's l1: 0.0187345\n",
      "[2600]\tvalid_0's l1: 0.0187153\n",
      "[2800]\tvalid_0's l1: 0.0186902\n",
      "[3000]\tvalid_0's l1: 0.0186104\n",
      "[3200]\tvalid_0's l1: 0.0185964\n",
      "[3400]\tvalid_0's l1: 0.0186267\n",
      "Score of this fold is 0.017279\n",
      "===== Running for fold 10 =====\n",
      "(83028, 10) (83028, 1) (9247, 10) (9247, 1)\n",
      "[200]\tvalid_0's l1: 0.0194209\n",
      "[400]\tvalid_0's l1: 0.0188912\n",
      "[600]\tvalid_0's l1: 0.0185801\n",
      "[800]\tvalid_0's l1: 0.0184489\n",
      "[1000]\tvalid_0's l1: 0.0183922\n",
      "[1200]\tvalid_0's l1: 0.0183403\n",
      "[1400]\tvalid_0's l1: 0.0183002\n",
      "[1600]\tvalid_0's l1: 0.0182708\n",
      "[1800]\tvalid_0's l1: 0.0182188\n",
      "[2000]\tvalid_0's l1: 0.0181782\n",
      "[2200]\tvalid_0's l1: 0.0181506\n",
      "[2400]\tvalid_0's l1: 0.0181718\n",
      "[2600]\tvalid_0's l1: 0.018137\n",
      "[2800]\tvalid_0's l1: 0.0181191\n",
      "[3000]\tvalid_0's l1: 0.0180913\n",
      "[3200]\tvalid_0's l1: 0.018101\n",
      "[3400]\tvalid_0's l1: 0.0180884\n",
      "[3600]\tvalid_0's l1: 0.0180261\n",
      "[3800]\tvalid_0's l1: 0.0180128\n",
      "[4000]\tvalid_0's l1: 0.0179861\n",
      "[4200]\tvalid_0's l1: 0.0179772\n",
      "[4400]\tvalid_0's l1: 0.0179634\n",
      "[4600]\tvalid_0's l1: 0.0179527\n",
      "[4800]\tvalid_0's l1: 0.0179474\n",
      "[5000]\tvalid_0's l1: 0.0179584\n",
      "Score of this fold is 0.017279\n"
     ]
    }
   ],
   "source": [
    "#code by https://www.kaggle.com/sandhyakrishnan02/pog-on-youtube-lgbm/notebook\n",
    "regs = []\n",
    "\n",
    "# Example Fold 1\n",
    "for fold in range(1, 11):\n",
    "    print(f'===== Running for fold {fold} =====')\n",
    "    # Split train / val\n",
    "    X_tr = train_feats.query('fold != @fold')[FEATURES]\n",
    "    y_tr = train_feats.query('fold != @fold')[TARGET]\n",
    "    X_val = train_feats.query('fold == @fold')[FEATURES]\n",
    "    y_val = train_feats.query('fold == @fold')[TARGET]\n",
    "    print(X_tr.shape, y_tr.shape, X_val.shape, y_val.shape)\n",
    "\n",
    "    # Create our model\n",
    "    reg = lgb.LGBMRegressor(n_estimators=cfg['N_ESTIMATORS'],\n",
    "                            learning_rate=cfg['LEARNING_RATE'],\n",
    "                            objective='mae',\n",
    "                            metric=['mae'],\n",
    "                            importance_type='gain'\n",
    "                           )\n",
    "        # Fit our model\n",
    "    reg.fit(X_tr, y_tr,\n",
    "            eval_set=(X_val, y_val),\n",
    "            early_stopping_rounds=500,\n",
    "            verbose=200,\n",
    "           )\n",
    "\n",
    "    # Predicting on validation set\n",
    "    fold_preds = reg.predict(X_val,\n",
    "                             num_iteration=reg.best_iteration_)\n",
    "    oof.loc[oof['fold'] == fold, 'preds'] = fold_preds\n",
    "    # Score validation set\n",
    "    fold_score = mean_absolute_error(\n",
    "        oof.query('fold == 1')['target'],\n",
    "            oof.query('fold == 1')['preds']\n",
    "    )\n",
    "\n",
    "\n",
    "    # Predicting on test\n",
    "    fold_test_pred = reg.predict(X_test,\n",
    "                num_iteration=reg.best_iteration_)\n",
    "    submission_df[f'pred_{fold}'] = fold_test_pred\n",
    "    print(f'Score of this fold is {fold_score:0.6f}')\n",
    "    regs.append(reg)"
   ]
  },
  {
   "cell_type": "markdown",
   "id": "4ab1926f",
   "metadata": {
    "papermill": {
     "duration": 0.098651,
     "end_time": "2022-02-08T17:39:05.029882",
     "exception": false,
     "start_time": "2022-02-08T17:39:04.931231",
     "status": "completed"
    },
    "tags": []
   },
   "source": [
    "# Creat Submission"
   ]
  },
  {
   "cell_type": "code",
   "execution_count": 30,
   "id": "29ee2d98",
   "metadata": {
    "execution": {
     "iopub.execute_input": "2022-02-08T17:39:05.230139Z",
     "iopub.status.busy": "2022-02-08T17:39:05.229421Z",
     "iopub.status.idle": "2022-02-08T17:39:05.233852Z",
     "shell.execute_reply": "2022-02-08T17:39:05.234394Z",
     "shell.execute_reply.started": "2022-02-08T17:34:25.454013Z"
    },
    "papermill": {
     "duration": 0.108156,
     "end_time": "2022-02-08T17:39:05.234601",
     "exception": false,
     "start_time": "2022-02-08T17:39:05.126445",
     "status": "completed"
    },
    "tags": []
   },
   "outputs": [],
   "source": [
    "pred_cols = [c for c in submission_df.columns if c.startswith('pred_')]\n",
    "\n",
    "submission_df['target'] = submission_df[pred_cols].mean(axis=1)"
   ]
  },
  {
   "cell_type": "code",
   "execution_count": 31,
   "id": "1953894d",
   "metadata": {
    "execution": {
     "iopub.execute_input": "2022-02-08T17:39:05.432245Z",
     "iopub.status.busy": "2022-02-08T17:39:05.431550Z",
     "iopub.status.idle": "2022-02-08T17:39:05.467595Z",
     "shell.execute_reply": "2022-02-08T17:39:05.468151Z",
     "shell.execute_reply.started": "2022-02-08T17:34:25.465821Z"
    },
    "papermill": {
     "duration": 0.136497,
     "end_time": "2022-02-08T17:39:05.468358",
     "exception": false,
     "start_time": "2022-02-08T17:39:05.331861",
     "status": "completed"
    },
    "tags": []
   },
   "outputs": [],
   "source": [
    "submission_df[['id','target']] \\\n",
    ".to_csv('submission.csv', index=False)"
   ]
  },
  {
   "cell_type": "code",
   "execution_count": null,
   "id": "917661e5",
   "metadata": {
    "papermill": {
     "duration": 0.097102,
     "end_time": "2022-02-08T17:39:05.662315",
     "exception": false,
     "start_time": "2022-02-08T17:39:05.565213",
     "status": "completed"
    },
    "tags": []
   },
   "outputs": [],
   "source": []
  }
 ],
 "metadata": {
  "kernelspec": {
   "display_name": "Python 3",
   "language": "python",
   "name": "python3"
  },
  "language_info": {
   "codemirror_mode": {
    "name": "ipython",
    "version": 3
   },
   "file_extension": ".py",
   "mimetype": "text/x-python",
   "name": "python",
   "nbconvert_exporter": "python",
   "pygments_lexer": "ipython3",
   "version": "3.7.12"
  },
  "papermill": {
   "default_parameters": {},
   "duration": 227.383977,
   "end_time": "2022-02-08T17:39:06.977153",
   "environment_variables": {},
   "exception": null,
   "input_path": "__notebook__.ipynb",
   "output_path": "__notebook__.ipynb",
   "parameters": {},
   "start_time": "2022-02-08T17:35:19.593176",
   "version": "2.3.3"
  }
 },
 "nbformat": 4,
 "nbformat_minor": 5
}
